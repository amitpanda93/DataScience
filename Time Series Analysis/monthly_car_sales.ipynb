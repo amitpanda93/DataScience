{
 "cells": [
  {
   "cell_type": "code",
   "execution_count": 1,
   "metadata": {},
   "outputs": [],
   "source": [
    "import pandas as pd"
   ]
  },
  {
   "cell_type": "code",
   "execution_count": 6,
   "metadata": {},
   "outputs": [],
   "source": [
    "data = pd.read_csv('monthly-car-sales.csv', index_col = 0, parse_dates = True, date_parser = lambda dates: pd.datetime.strptime(dates,'%Y-%m'))"
   ]
  },
  {
   "cell_type": "code",
   "execution_count": 7,
   "metadata": {},
   "outputs": [
    {
     "data": {
      "text/html": [
       "<div>\n",
       "<style scoped>\n",
       "    .dataframe tbody tr th:only-of-type {\n",
       "        vertical-align: middle;\n",
       "    }\n",
       "\n",
       "    .dataframe tbody tr th {\n",
       "        vertical-align: top;\n",
       "    }\n",
       "\n",
       "    .dataframe thead th {\n",
       "        text-align: right;\n",
       "    }\n",
       "</style>\n",
       "<table border=\"1\" class=\"dataframe\">\n",
       "  <thead>\n",
       "    <tr style=\"text-align: right;\">\n",
       "      <th></th>\n",
       "      <th>Sales</th>\n",
       "    </tr>\n",
       "    <tr>\n",
       "      <th>Month</th>\n",
       "      <th></th>\n",
       "    </tr>\n",
       "  </thead>\n",
       "  <tbody>\n",
       "    <tr>\n",
       "      <th>1960-01-01</th>\n",
       "      <td>6550</td>\n",
       "    </tr>\n",
       "    <tr>\n",
       "      <th>1960-02-01</th>\n",
       "      <td>8728</td>\n",
       "    </tr>\n",
       "    <tr>\n",
       "      <th>1960-03-01</th>\n",
       "      <td>12026</td>\n",
       "    </tr>\n",
       "    <tr>\n",
       "      <th>1960-04-01</th>\n",
       "      <td>14395</td>\n",
       "    </tr>\n",
       "    <tr>\n",
       "      <th>1960-05-01</th>\n",
       "      <td>14587</td>\n",
       "    </tr>\n",
       "  </tbody>\n",
       "</table>\n",
       "</div>"
      ],
      "text/plain": [
       "            Sales\n",
       "Month            \n",
       "1960-01-01   6550\n",
       "1960-02-01   8728\n",
       "1960-03-01  12026\n",
       "1960-04-01  14395\n",
       "1960-05-01  14587"
      ]
     },
     "execution_count": 7,
     "metadata": {},
     "output_type": "execute_result"
    }
   ],
   "source": [
    "data.head()"
   ]
  },
  {
   "cell_type": "code",
   "execution_count": 8,
   "metadata": {},
   "outputs": [
    {
     "data": {
      "text/plain": [
       "Sales    int64\n",
       "dtype: object"
      ]
     },
     "execution_count": 8,
     "metadata": {},
     "output_type": "execute_result"
    }
   ],
   "source": [
    "data.dtypes"
   ]
  },
  {
   "cell_type": "code",
   "execution_count": 9,
   "metadata": {},
   "outputs": [
    {
     "data": {
      "text/plain": [
       "dtype('<M8[ns]')"
      ]
     },
     "execution_count": 9,
     "metadata": {},
     "output_type": "execute_result"
    }
   ],
   "source": [
    "data.index.dtype"
   ]
  },
  {
   "cell_type": "code",
   "execution_count": 10,
   "metadata": {},
   "outputs": [
    {
     "data": {
      "text/html": [
       "<div>\n",
       "<style scoped>\n",
       "    .dataframe tbody tr th:only-of-type {\n",
       "        vertical-align: middle;\n",
       "    }\n",
       "\n",
       "    .dataframe tbody tr th {\n",
       "        vertical-align: top;\n",
       "    }\n",
       "\n",
       "    .dataframe thead th {\n",
       "        text-align: right;\n",
       "    }\n",
       "</style>\n",
       "<table border=\"1\" class=\"dataframe\">\n",
       "  <thead>\n",
       "    <tr style=\"text-align: right;\">\n",
       "      <th></th>\n",
       "      <th>Sales</th>\n",
       "    </tr>\n",
       "    <tr>\n",
       "      <th>Month</th>\n",
       "      <th></th>\n",
       "    </tr>\n",
       "  </thead>\n",
       "  <tbody>\n",
       "    <tr>\n",
       "      <th>1968-08-01</th>\n",
       "      <td>16722</td>\n",
       "    </tr>\n",
       "    <tr>\n",
       "      <th>1968-09-01</th>\n",
       "      <td>14385</td>\n",
       "    </tr>\n",
       "    <tr>\n",
       "      <th>1968-10-01</th>\n",
       "      <td>21342</td>\n",
       "    </tr>\n",
       "    <tr>\n",
       "      <th>1968-11-01</th>\n",
       "      <td>17180</td>\n",
       "    </tr>\n",
       "    <tr>\n",
       "      <th>1968-12-01</th>\n",
       "      <td>14577</td>\n",
       "    </tr>\n",
       "  </tbody>\n",
       "</table>\n",
       "</div>"
      ],
      "text/plain": [
       "            Sales\n",
       "Month            \n",
       "1968-08-01  16722\n",
       "1968-09-01  14385\n",
       "1968-10-01  21342\n",
       "1968-11-01  17180\n",
       "1968-12-01  14577"
      ]
     },
     "execution_count": 10,
     "metadata": {},
     "output_type": "execute_result"
    }
   ],
   "source": [
    "data.tail()"
   ]
  },
  {
   "cell_type": "code",
   "execution_count": 13,
   "metadata": {},
   "outputs": [
    {
     "data": {
      "text/plain": [
       "<matplotlib.axes._subplots.AxesSubplot at 0x11060d3c8>"
      ]
     },
     "execution_count": 13,
     "metadata": {},
     "output_type": "execute_result"
    },
    {
     "data": {
      "image/png": "[encoded data removed]",
      "text/plain": [
       "<Figure size 432x288 with 1 Axes>"
      ]
     },
     "metadata": {
      "needs_background": "light"
     },
     "output_type": "display_data"
    }
   ],
   "source": [
    "data.plot()"
   ]
  },
  {
   "cell_type": "code",
   "execution_count": 12,
   "metadata": {},
   "outputs": [],
   "source": [
    "%matplotlib inline"
   ]
  },
  {
   "cell_type": "code",
   "execution_count": 16,
   "metadata": {},
   "outputs": [
    {
     "ename": "AttributeError",
     "evalue": "'numpy.ndarray' object has no attribute 'plot'",
     "output_type": "error",
     "traceback": [
      "\u001b[0;31m---------------------------------------------------------------------------\u001b[0m",
      "\u001b[0;31mAttributeError\u001b[0m                            Traceback (most recent call last)",
      "\u001b[0;32m<ipython-input-16-14ceedfc4893>\u001b[0m in \u001b[0;36m<module>\u001b[0;34m\u001b[0m\n\u001b[0;32m----> 1\u001b[0;31m \u001b[0mdata\u001b[0m\u001b[0;34m.\u001b[0m\u001b[0mvalues\u001b[0m\u001b[0;34m.\u001b[0m\u001b[0mreshape\u001b[0m\u001b[0;34m(\u001b[0m\u001b[0;34m-\u001b[0m\u001b[0;36m1\u001b[0m\u001b[0;34m,\u001b[0m\u001b[0;36m12\u001b[0m\u001b[0;34m)\u001b[0m\u001b[0;34m.\u001b[0m\u001b[0mplot\u001b[0m\u001b[0;34m(\u001b[0m\u001b[0;34m)\u001b[0m\u001b[0;34m\u001b[0m\u001b[0;34m\u001b[0m\u001b[0m\n\u001b[0m",
      "\u001b[0;31mAttributeError\u001b[0m: 'numpy.ndarray' object has no attribute 'plot'"
     ]
    }
   ],
   "source": [
    "data.values.reshape(-1,12)"
   ]
  },
  {
   "cell_type": "code",
   "execution_count": 19,
   "metadata": {},
   "outputs": [
    {
     "data": {
      "text/html": [
       "<div>\n",
       "<style scoped>\n",
       "    .dataframe tbody tr th:only-of-type {\n",
       "        vertical-align: middle;\n",
       "    }\n",
       "\n",
       "    .dataframe tbody tr th {\n",
       "        vertical-align: top;\n",
       "    }\n",
       "\n",
       "    .dataframe thead th {\n",
       "        text-align: right;\n",
       "    }\n",
       "</style>\n",
       "<table border=\"1\" class=\"dataframe\">\n",
       "  <thead>\n",
       "    <tr style=\"text-align: right;\">\n",
       "      <th></th>\n",
       "      <th>Jan</th>\n",
       "      <th>Feb</th>\n",
       "      <th>Mar</th>\n",
       "      <th>Apr</th>\n",
       "      <th>May</th>\n",
       "      <th>Jun</th>\n",
       "      <th>Jul</th>\n",
       "      <th>Aug</th>\n",
       "      <th>Sep</th>\n",
       "      <th>Oct</th>\n",
       "      <th>Nov</th>\n",
       "      <th>Dec</th>\n",
       "    </tr>\n",
       "  </thead>\n",
       "  <tbody>\n",
       "    <tr>\n",
       "      <th>1960</th>\n",
       "      <td>6550</td>\n",
       "      <td>8728</td>\n",
       "      <td>12026</td>\n",
       "      <td>14395</td>\n",
       "      <td>14587</td>\n",
       "      <td>13791</td>\n",
       "      <td>9498</td>\n",
       "      <td>8251</td>\n",
       "      <td>7049</td>\n",
       "      <td>9545</td>\n",
       "      <td>9364</td>\n",
       "      <td>8456</td>\n",
       "    </tr>\n",
       "    <tr>\n",
       "      <th>1961</th>\n",
       "      <td>7237</td>\n",
       "      <td>9374</td>\n",
       "      <td>11837</td>\n",
       "      <td>13784</td>\n",
       "      <td>15926</td>\n",
       "      <td>13821</td>\n",
       "      <td>11143</td>\n",
       "      <td>7975</td>\n",
       "      <td>7610</td>\n",
       "      <td>10015</td>\n",
       "      <td>12759</td>\n",
       "      <td>8816</td>\n",
       "    </tr>\n",
       "    <tr>\n",
       "      <th>1962</th>\n",
       "      <td>10677</td>\n",
       "      <td>10947</td>\n",
       "      <td>15200</td>\n",
       "      <td>17010</td>\n",
       "      <td>20900</td>\n",
       "      <td>16205</td>\n",
       "      <td>12143</td>\n",
       "      <td>8997</td>\n",
       "      <td>5568</td>\n",
       "      <td>11474</td>\n",
       "      <td>12256</td>\n",
       "      <td>10583</td>\n",
       "    </tr>\n",
       "    <tr>\n",
       "      <th>1963</th>\n",
       "      <td>10862</td>\n",
       "      <td>10965</td>\n",
       "      <td>14405</td>\n",
       "      <td>20379</td>\n",
       "      <td>20128</td>\n",
       "      <td>17816</td>\n",
       "      <td>12268</td>\n",
       "      <td>8642</td>\n",
       "      <td>7962</td>\n",
       "      <td>13932</td>\n",
       "      <td>15936</td>\n",
       "      <td>12628</td>\n",
       "    </tr>\n",
       "    <tr>\n",
       "      <th>1964</th>\n",
       "      <td>12267</td>\n",
       "      <td>12470</td>\n",
       "      <td>18944</td>\n",
       "      <td>21259</td>\n",
       "      <td>22015</td>\n",
       "      <td>18581</td>\n",
       "      <td>15175</td>\n",
       "      <td>10306</td>\n",
       "      <td>10792</td>\n",
       "      <td>14752</td>\n",
       "      <td>13754</td>\n",
       "      <td>11738</td>\n",
       "    </tr>\n",
       "    <tr>\n",
       "      <th>1965</th>\n",
       "      <td>12181</td>\n",
       "      <td>12965</td>\n",
       "      <td>19990</td>\n",
       "      <td>23125</td>\n",
       "      <td>23541</td>\n",
       "      <td>21247</td>\n",
       "      <td>15189</td>\n",
       "      <td>14767</td>\n",
       "      <td>10895</td>\n",
       "      <td>17130</td>\n",
       "      <td>17697</td>\n",
       "      <td>16611</td>\n",
       "    </tr>\n",
       "    <tr>\n",
       "      <th>1966</th>\n",
       "      <td>12674</td>\n",
       "      <td>12760</td>\n",
       "      <td>20249</td>\n",
       "      <td>22135</td>\n",
       "      <td>20677</td>\n",
       "      <td>19933</td>\n",
       "      <td>15388</td>\n",
       "      <td>15113</td>\n",
       "      <td>13401</td>\n",
       "      <td>16135</td>\n",
       "      <td>17562</td>\n",
       "      <td>14720</td>\n",
       "    </tr>\n",
       "    <tr>\n",
       "      <th>1967</th>\n",
       "      <td>12225</td>\n",
       "      <td>11608</td>\n",
       "      <td>20985</td>\n",
       "      <td>19692</td>\n",
       "      <td>24081</td>\n",
       "      <td>22114</td>\n",
       "      <td>14220</td>\n",
       "      <td>13434</td>\n",
       "      <td>13598</td>\n",
       "      <td>17187</td>\n",
       "      <td>16119</td>\n",
       "      <td>13713</td>\n",
       "    </tr>\n",
       "    <tr>\n",
       "      <th>1968</th>\n",
       "      <td>13210</td>\n",
       "      <td>14251</td>\n",
       "      <td>20139</td>\n",
       "      <td>21725</td>\n",
       "      <td>26099</td>\n",
       "      <td>21084</td>\n",
       "      <td>18024</td>\n",
       "      <td>16722</td>\n",
       "      <td>14385</td>\n",
       "      <td>21342</td>\n",
       "      <td>17180</td>\n",
       "      <td>14577</td>\n",
       "    </tr>\n",
       "  </tbody>\n",
       "</table>\n",
       "</div>"
      ],
      "text/plain": [
       "        Jan    Feb    Mar    Apr    May    Jun    Jul    Aug    Sep    Oct  \\\n",
       "1960   6550   8728  12026  14395  14587  13791   9498   8251   7049   9545   \n",
       "1961   7237   9374  11837  13784  15926  13821  11143   7975   7610  10015   \n",
       "1962  10677  10947  15200  17010  20900  16205  12143   8997   5568  11474   \n",
       "1963  10862  10965  14405  20379  20128  17816  12268   8642   7962  13932   \n",
       "1964  12267  12470  18944  21259  22015  18581  15175  10306  10792  14752   \n",
       "1965  12181  12965  19990  23125  23541  21247  15189  14767  10895  17130   \n",
       "1966  12674  12760  20249  22135  20677  19933  15388  15113  13401  16135   \n",
       "1967  12225  11608  20985  19692  24081  22114  14220  13434  13598  17187   \n",
       "1968  13210  14251  20139  21725  26099  21084  18024  16722  14385  21342   \n",
       "\n",
       "        Nov    Dec  \n",
       "1960   9364   8456  \n",
       "1961  12759   8816  \n",
       "1962  12256  10583  \n",
       "1963  15936  12628  \n",
       "1964  13754  11738  \n",
       "1965  17697  16611  \n",
       "1966  17562  14720  \n",
       "1967  16119  13713  \n",
       "1968  17180  14577  "
      ]
     },
     "execution_count": 19,
     "metadata": {},
     "output_type": "execute_result"
    }
   ],
   "source": [
    "cols = ['Jan','Feb','Mar','Apr','May','Jun','Jul','Aug','Sep','Oct','Nov','Dec']\n",
    "data_year = pd.DataFrame(data.values.reshape(-1,12), index=range(1960,1969), columns=cols)\n",
    "data_year"
   ]
  },
  {
   "cell_type": "code",
   "execution_count": 25,
   "metadata": {},
   "outputs": [
    {
     "data": {
      "text/plain": [
       "<matplotlib.axes._subplots.AxesSubplot at 0x12494d128>"
      ]
     },
     "execution_count": 25,
     "metadata": {},
     "output_type": "execute_result"
    },
    {
     "data": {
      "image/png": "[encoded data removed]",
      "text/plain": [
       "<Figure size 432x288 with 1 Axes>"
      ]
     },
     "metadata": {
      "needs_background": "light"
     },
     "output_type": "display_data"
    }
   ],
   "source": [
    "data_year.plot()"
   ]
  },
  {
   "cell_type": "code",
   "execution_count": 21,
   "metadata": {},
   "outputs": [
    {
     "data": {
      "text/plain": [
       "array([1960, 1961, 1962, 1963, 1964, 1965, 1966, 1967, 1968])"
      ]
     },
     "execution_count": 21,
     "metadata": {},
     "output_type": "execute_result"
    }
   ],
   "source": [
    "data_year.index.values"
   ]
  },
  {
   "cell_type": "code",
   "execution_count": 26,
   "metadata": {},
   "outputs": [],
   "source": [
    "#Seasonal Decompose\n",
    "#Check both additive and multiplicative models"
   ]
  },
  {
   "cell_type": "code",
   "execution_count": 37,
   "metadata": {},
   "outputs": [],
   "source": [
    "#Additive decomposition"
   ]
  },
  {
   "cell_type": "code",
   "execution_count": 27,
   "metadata": {},
   "outputs": [],
   "source": [
    "from statsmodels.tsa.seasonal import seasonal_decompose"
   ]
  },
  {
   "cell_type": "code",
   "execution_count": 28,
   "metadata": {},
   "outputs": [],
   "source": [
    "#Extracting the seasonal values"
   ]
  },
  {
   "cell_type": "code",
   "execution_count": 29,
   "metadata": {},
   "outputs": [],
   "source": [
    "seasonal_data_add = seasonal_decompose(data, model='additive').seasonal"
   ]
  },
  {
   "cell_type": "code",
   "execution_count": 31,
   "metadata": {},
   "outputs": [],
   "source": [
    "data_season_additive = seasonal_data.values.reshape(-1,12)"
   ]
  },
  {
   "cell_type": "code",
   "execution_count": 35,
   "metadata": {},
   "outputs": [],
   "source": [
    "data_deseason_additve = data - seasonal_data"
   ]
  },
  {
   "cell_type": "code",
   "execution_count": 36,
   "metadata": {},
   "outputs": [
    {
     "data": {
      "text/plain": [
       "<matplotlib.axes._subplots.AxesSubplot at 0x124c88240>"
      ]
     },
     "execution_count": 36,
     "metadata": {},
     "output_type": "execute_result"
    },
    {
     "data": {
      "image/png": "[encoded data removed]",
      "text/plain": [
       "<Figure size 432x288 with 1 Axes>"
      ]
     },
     "metadata": {
      "needs_background": "light"
     },
     "output_type": "display_data"
    }
   ],
   "source": [
    "data_deseason_additve.plot()"
   ]
  },
  {
   "cell_type": "code",
   "execution_count": 38,
   "metadata": {},
   "outputs": [],
   "source": [
    "#Multiplicative decomposition"
   ]
  },
  {
   "cell_type": "code",
   "execution_count": 39,
   "metadata": {},
   "outputs": [],
   "source": [
    "seasonal_data_mult = seasonal_decompose(data, model = 'multiplicative').seasonal"
   ]
  },
  {
   "cell_type": "code",
   "execution_count": 42,
   "metadata": {},
   "outputs": [],
   "source": [
    "data_deseason_mult = data / seasonal_data_mult"
   ]
  },
  {
   "cell_type": "code",
   "execution_count": 43,
   "metadata": {},
   "outputs": [
    {
     "data": {
      "text/plain": [
       "<matplotlib.axes._subplots.AxesSubplot at 0x123d31eb8>"
      ]
     },
     "execution_count": 43,
     "metadata": {},
     "output_type": "execute_result"
    },
    {
     "data": {
      "image/png": "[encoded data removed]",
      "text/plain": [
       "<Figure size 432x288 with 1 Axes>"
      ]
     },
     "metadata": {
      "needs_background": "light"
     },
     "output_type": "display_data"
    }
   ],
   "source": [
    "data_deseason_mult.plot()"
   ]
  },
  {
   "cell_type": "markdown",
   "metadata": {},
   "source": [
    "## Method 1 - Seasonal Indexing "
   ]
  },
  {
   "cell_type": "code",
   "execution_count": 45,
   "metadata": {},
   "outputs": [],
   "source": [
    "# We will leave out the last year for testing"
   ]
  },
  {
   "cell_type": "code",
   "execution_count": 48,
   "metadata": {},
   "outputs": [
    {
     "data": {
      "text/html": [
       "<div>\n",
       "<style scoped>\n",
       "    .dataframe tbody tr th:only-of-type {\n",
       "        vertical-align: middle;\n",
       "    }\n",
       "\n",
       "    .dataframe tbody tr th {\n",
       "        vertical-align: top;\n",
       "    }\n",
       "\n",
       "    .dataframe thead th {\n",
       "        text-align: right;\n",
       "    }\n",
       "</style>\n",
       "<table border=\"1\" class=\"dataframe\">\n",
       "  <thead>\n",
       "    <tr style=\"text-align: right;\">\n",
       "      <th></th>\n",
       "      <th>Jan</th>\n",
       "      <th>Feb</th>\n",
       "      <th>Mar</th>\n",
       "      <th>Apr</th>\n",
       "      <th>May</th>\n",
       "      <th>Jun</th>\n",
       "      <th>Jul</th>\n",
       "      <th>Aug</th>\n",
       "      <th>Sep</th>\n",
       "      <th>Oct</th>\n",
       "      <th>Nov</th>\n",
       "      <th>Dec</th>\n",
       "    </tr>\n",
       "  </thead>\n",
       "  <tbody>\n",
       "    <tr>\n",
       "      <th>1960</th>\n",
       "      <td>6550</td>\n",
       "      <td>8728</td>\n",
       "      <td>12026</td>\n",
       "      <td>14395</td>\n",
       "      <td>14587</td>\n",
       "      <td>13791</td>\n",
       "      <td>9498</td>\n",
       "      <td>8251</td>\n",
       "      <td>7049</td>\n",
       "      <td>9545</td>\n",
       "      <td>9364</td>\n",
       "      <td>8456</td>\n",
       "    </tr>\n",
       "    <tr>\n",
       "      <th>1961</th>\n",
       "      <td>7237</td>\n",
       "      <td>9374</td>\n",
       "      <td>11837</td>\n",
       "      <td>13784</td>\n",
       "      <td>15926</td>\n",
       "      <td>13821</td>\n",
       "      <td>11143</td>\n",
       "      <td>7975</td>\n",
       "      <td>7610</td>\n",
       "      <td>10015</td>\n",
       "      <td>12759</td>\n",
       "      <td>8816</td>\n",
       "    </tr>\n",
       "    <tr>\n",
       "      <th>1962</th>\n",
       "      <td>10677</td>\n",
       "      <td>10947</td>\n",
       "      <td>15200</td>\n",
       "      <td>17010</td>\n",
       "      <td>20900</td>\n",
       "      <td>16205</td>\n",
       "      <td>12143</td>\n",
       "      <td>8997</td>\n",
       "      <td>5568</td>\n",
       "      <td>11474</td>\n",
       "      <td>12256</td>\n",
       "      <td>10583</td>\n",
       "    </tr>\n",
       "    <tr>\n",
       "      <th>1963</th>\n",
       "      <td>10862</td>\n",
       "      <td>10965</td>\n",
       "      <td>14405</td>\n",
       "      <td>20379</td>\n",
       "      <td>20128</td>\n",
       "      <td>17816</td>\n",
       "      <td>12268</td>\n",
       "      <td>8642</td>\n",
       "      <td>7962</td>\n",
       "      <td>13932</td>\n",
       "      <td>15936</td>\n",
       "      <td>12628</td>\n",
       "    </tr>\n",
       "    <tr>\n",
       "      <th>1964</th>\n",
       "      <td>12267</td>\n",
       "      <td>12470</td>\n",
       "      <td>18944</td>\n",
       "      <td>21259</td>\n",
       "      <td>22015</td>\n",
       "      <td>18581</td>\n",
       "      <td>15175</td>\n",
       "      <td>10306</td>\n",
       "      <td>10792</td>\n",
       "      <td>14752</td>\n",
       "      <td>13754</td>\n",
       "      <td>11738</td>\n",
       "    </tr>\n",
       "    <tr>\n",
       "      <th>1965</th>\n",
       "      <td>12181</td>\n",
       "      <td>12965</td>\n",
       "      <td>19990</td>\n",
       "      <td>23125</td>\n",
       "      <td>23541</td>\n",
       "      <td>21247</td>\n",
       "      <td>15189</td>\n",
       "      <td>14767</td>\n",
       "      <td>10895</td>\n",
       "      <td>17130</td>\n",
       "      <td>17697</td>\n",
       "      <td>16611</td>\n",
       "    </tr>\n",
       "    <tr>\n",
       "      <th>1966</th>\n",
       "      <td>12674</td>\n",
       "      <td>12760</td>\n",
       "      <td>20249</td>\n",
       "      <td>22135</td>\n",
       "      <td>20677</td>\n",
       "      <td>19933</td>\n",
       "      <td>15388</td>\n",
       "      <td>15113</td>\n",
       "      <td>13401</td>\n",
       "      <td>16135</td>\n",
       "      <td>17562</td>\n",
       "      <td>14720</td>\n",
       "    </tr>\n",
       "    <tr>\n",
       "      <th>1967</th>\n",
       "      <td>12225</td>\n",
       "      <td>11608</td>\n",
       "      <td>20985</td>\n",
       "      <td>19692</td>\n",
       "      <td>24081</td>\n",
       "      <td>22114</td>\n",
       "      <td>14220</td>\n",
       "      <td>13434</td>\n",
       "      <td>13598</td>\n",
       "      <td>17187</td>\n",
       "      <td>16119</td>\n",
       "      <td>13713</td>\n",
       "    </tr>\n",
       "  </tbody>\n",
       "</table>\n",
       "</div>"
      ],
      "text/plain": [
       "        Jan    Feb    Mar    Apr    May    Jun    Jul    Aug    Sep    Oct  \\\n",
       "1960   6550   8728  12026  14395  14587  13791   9498   8251   7049   9545   \n",
       "1961   7237   9374  11837  13784  15926  13821  11143   7975   7610  10015   \n",
       "1962  10677  10947  15200  17010  20900  16205  12143   8997   5568  11474   \n",
       "1963  10862  10965  14405  20379  20128  17816  12268   8642   7962  13932   \n",
       "1964  12267  12470  18944  21259  22015  18581  15175  10306  10792  14752   \n",
       "1965  12181  12965  19990  23125  23541  21247  15189  14767  10895  17130   \n",
       "1966  12674  12760  20249  22135  20677  19933  15388  15113  13401  16135   \n",
       "1967  12225  11608  20985  19692  24081  22114  14220  13434  13598  17187   \n",
       "\n",
       "        Nov    Dec  \n",
       "1960   9364   8456  \n",
       "1961  12759   8816  \n",
       "1962  12256  10583  \n",
       "1963  15936  12628  \n",
       "1964  13754  11738  \n",
       "1965  17697  16611  \n",
       "1966  17562  14720  \n",
       "1967  16119  13713  "
      ]
     },
     "execution_count": 48,
     "metadata": {},
     "output_type": "execute_result"
    }
   ],
   "source": [
    "data_si = data_year.iloc[:8,].copy()\n",
    "data_si"
   ]
  },
  {
   "cell_type": "code",
   "execution_count": 56,
   "metadata": {},
   "outputs": [],
   "source": [
    "#Find mean of all years\n",
    "data_si_yearly_mean = data_si.mean(axis = 1)"
   ]
  },
  {
   "cell_type": "code",
   "execution_count": 57,
   "metadata": {},
   "outputs": [
    {
     "data": {
      "text/plain": [
       "1960    10186.666667\n",
       "1961    10858.083333\n",
       "1962    12663.333333\n",
       "1963    13826.916667\n",
       "1964    15171.083333\n",
       "1965    17111.500000\n",
       "1966    16728.916667\n",
       "1967    16581.333333\n",
       "dtype: float64"
      ]
     },
     "execution_count": 57,
     "metadata": {},
     "output_type": "execute_result"
    }
   ],
   "source": [
    "data_si_yearly_mean"
   ]
  },
  {
   "cell_type": "code",
   "execution_count": 60,
   "metadata": {},
   "outputs": [],
   "source": [
    "#Divide the monthly data by the average of the corresponding year.\n",
    "\n",
    "data_avg = data_si.div(data_si_yearly_mean.values, axis = 0)"
   ]
  },
  {
   "cell_type": "code",
   "execution_count": 61,
   "metadata": {},
   "outputs": [
    {
     "data": {
      "text/html": [
       "<div>\n",
       "<style scoped>\n",
       "    .dataframe tbody tr th:only-of-type {\n",
       "        vertical-align: middle;\n",
       "    }\n",
       "\n",
       "    .dataframe tbody tr th {\n",
       "        vertical-align: top;\n",
       "    }\n",
       "\n",
       "    .dataframe thead th {\n",
       "        text-align: right;\n",
       "    }\n",
       "</style>\n",
       "<table border=\"1\" class=\"dataframe\">\n",
       "  <thead>\n",
       "    <tr style=\"text-align: right;\">\n",
       "      <th></th>\n",
       "      <th>Jan</th>\n",
       "      <th>Feb</th>\n",
       "      <th>Mar</th>\n",
       "      <th>Apr</th>\n",
       "      <th>May</th>\n",
       "      <th>Jun</th>\n",
       "      <th>Jul</th>\n",
       "      <th>Aug</th>\n",
       "      <th>Sep</th>\n",
       "      <th>Oct</th>\n",
       "      <th>Nov</th>\n",
       "      <th>Dec</th>\n",
       "    </tr>\n",
       "  </thead>\n",
       "  <tbody>\n",
       "    <tr>\n",
       "      <th>1960</th>\n",
       "      <td>0.642997</td>\n",
       "      <td>0.856806</td>\n",
       "      <td>1.180563</td>\n",
       "      <td>1.413122</td>\n",
       "      <td>1.431970</td>\n",
       "      <td>1.353829</td>\n",
       "      <td>0.932395</td>\n",
       "      <td>0.809980</td>\n",
       "      <td>0.691983</td>\n",
       "      <td>0.937009</td>\n",
       "      <td>0.919241</td>\n",
       "      <td>0.830105</td>\n",
       "    </tr>\n",
       "    <tr>\n",
       "      <th>1961</th>\n",
       "      <td>0.666508</td>\n",
       "      <td>0.863320</td>\n",
       "      <td>1.090156</td>\n",
       "      <td>1.269469</td>\n",
       "      <td>1.466741</td>\n",
       "      <td>1.272877</td>\n",
       "      <td>1.026240</td>\n",
       "      <td>0.734476</td>\n",
       "      <td>0.700860</td>\n",
       "      <td>0.922354</td>\n",
       "      <td>1.175069</td>\n",
       "      <td>0.811930</td>\n",
       "    </tr>\n",
       "    <tr>\n",
       "      <th>1962</th>\n",
       "      <td>0.843143</td>\n",
       "      <td>0.864464</td>\n",
       "      <td>1.200316</td>\n",
       "      <td>1.343248</td>\n",
       "      <td>1.650434</td>\n",
       "      <td>1.279679</td>\n",
       "      <td>0.958910</td>\n",
       "      <td>0.710476</td>\n",
       "      <td>0.439695</td>\n",
       "      <td>0.906081</td>\n",
       "      <td>0.967834</td>\n",
       "      <td>0.835720</td>\n",
       "    </tr>\n",
       "    <tr>\n",
       "      <th>1963</th>\n",
       "      <td>0.785569</td>\n",
       "      <td>0.793018</td>\n",
       "      <td>1.041809</td>\n",
       "      <td>1.473864</td>\n",
       "      <td>1.455711</td>\n",
       "      <td>1.288501</td>\n",
       "      <td>0.887255</td>\n",
       "      <td>0.625013</td>\n",
       "      <td>0.575833</td>\n",
       "      <td>1.007600</td>\n",
       "      <td>1.152535</td>\n",
       "      <td>0.913291</td>\n",
       "    </tr>\n",
       "    <tr>\n",
       "      <th>1964</th>\n",
       "      <td>0.808578</td>\n",
       "      <td>0.821958</td>\n",
       "      <td>1.248691</td>\n",
       "      <td>1.401284</td>\n",
       "      <td>1.451116</td>\n",
       "      <td>1.224764</td>\n",
       "      <td>1.000258</td>\n",
       "      <td>0.679319</td>\n",
       "      <td>0.711353</td>\n",
       "      <td>0.972376</td>\n",
       "      <td>0.906593</td>\n",
       "      <td>0.773709</td>\n",
       "    </tr>\n",
       "    <tr>\n",
       "      <th>1965</th>\n",
       "      <td>0.711860</td>\n",
       "      <td>0.757678</td>\n",
       "      <td>1.168220</td>\n",
       "      <td>1.351430</td>\n",
       "      <td>1.375741</td>\n",
       "      <td>1.241680</td>\n",
       "      <td>0.887649</td>\n",
       "      <td>0.862987</td>\n",
       "      <td>0.636706</td>\n",
       "      <td>1.001081</td>\n",
       "      <td>1.034217</td>\n",
       "      <td>0.970751</td>\n",
       "    </tr>\n",
       "    <tr>\n",
       "      <th>1966</th>\n",
       "      <td>0.757610</td>\n",
       "      <td>0.762751</td>\n",
       "      <td>1.210419</td>\n",
       "      <td>1.323158</td>\n",
       "      <td>1.236004</td>\n",
       "      <td>1.191530</td>\n",
       "      <td>0.919844</td>\n",
       "      <td>0.903406</td>\n",
       "      <td>0.801068</td>\n",
       "      <td>0.964498</td>\n",
       "      <td>1.049799</td>\n",
       "      <td>0.879914</td>\n",
       "    </tr>\n",
       "    <tr>\n",
       "      <th>1967</th>\n",
       "      <td>0.737275</td>\n",
       "      <td>0.700064</td>\n",
       "      <td>1.265580</td>\n",
       "      <td>1.187601</td>\n",
       "      <td>1.452296</td>\n",
       "      <td>1.333668</td>\n",
       "      <td>0.857591</td>\n",
       "      <td>0.810188</td>\n",
       "      <td>0.820079</td>\n",
       "      <td>1.036527</td>\n",
       "      <td>0.972117</td>\n",
       "      <td>0.827014</td>\n",
       "    </tr>\n",
       "  </tbody>\n",
       "</table>\n",
       "</div>"
      ],
      "text/plain": [
       "           Jan       Feb       Mar       Apr       May       Jun       Jul  \\\n",
       "1960  0.642997  0.856806  1.180563  1.413122  1.431970  1.353829  0.932395   \n",
       "1961  0.666508  0.863320  1.090156  1.269469  1.466741  1.272877  1.026240   \n",
       "1962  0.843143  0.864464  1.200316  1.343248  1.650434  1.279679  0.958910   \n",
       "1963  0.785569  0.793018  1.041809  1.473864  1.455711  1.288501  0.887255   \n",
       "1964  0.808578  0.821958  1.248691  1.401284  1.451116  1.224764  1.000258   \n",
       "1965  0.711860  0.757678  1.168220  1.351430  1.375741  1.241680  0.887649   \n",
       "1966  0.757610  0.762751  1.210419  1.323158  1.236004  1.191530  0.919844   \n",
       "1967  0.737275  0.700064  1.265580  1.187601  1.452296  1.333668  0.857591   \n",
       "\n",
       "           Aug       Sep       Oct       Nov       Dec  \n",
       "1960  0.809980  0.691983  0.937009  0.919241  0.830105  \n",
       "1961  0.734476  0.700860  0.922354  1.175069  0.811930  \n",
       "1962  0.710476  0.439695  0.906081  0.967834  0.835720  \n",
       "1963  0.625013  0.575833  1.007600  1.152535  0.913291  \n",
       "1964  0.679319  0.711353  0.972376  0.906593  0.773709  \n",
       "1965  0.862987  0.636706  1.001081  1.034217  0.970751  \n",
       "1966  0.903406  0.801068  0.964498  1.049799  0.879914  \n",
       "1967  0.810188  0.820079  1.036527  0.972117  0.827014  "
      ]
     },
     "execution_count": 61,
     "metadata": {},
     "output_type": "execute_result"
    }
   ],
   "source": [
    "data_avg"
   ]
  },
  {
   "cell_type": "markdown",
   "metadata": {},
   "source": [
    "Compute the average across each year for the values of each month from step 2 in order to obtain the Seasonal Index"
   ]
  },
  {
   "cell_type": "code",
   "execution_count": 62,
   "metadata": {},
   "outputs": [],
   "source": [
    "data_sindex = data_avg.mean(axis = 0)"
   ]
  },
  {
   "cell_type": "code",
   "execution_count": 63,
   "metadata": {},
   "outputs": [
    {
     "data": {
      "text/plain": [
       "Jan    0.744193\n",
       "Feb    0.802508\n",
       "Mar    1.175719\n",
       "Apr    1.345397\n",
       "May    1.440002\n",
       "Jun    1.273316\n",
       "Jul    0.933768\n",
       "Aug    0.766981\n",
       "Sep    0.672197\n",
       "Oct    0.968441\n",
       "Nov    1.022176\n",
       "Dec    0.855304\n",
       "dtype: float64"
      ]
     },
     "execution_count": 63,
     "metadata": {},
     "output_type": "execute_result"
    }
   ],
   "source": [
    "data_sindex"
   ]
  },
  {
   "cell_type": "code",
   "execution_count": 64,
   "metadata": {},
   "outputs": [],
   "source": [
    "data_deseason = data_si.div(data_sindex)"
   ]
  },
  {
   "cell_type": "code",
   "execution_count": 65,
   "metadata": {},
   "outputs": [
    {
     "data": {
      "text/html": [
       "<div>\n",
       "<style scoped>\n",
       "    .dataframe tbody tr th:only-of-type {\n",
       "        vertical-align: middle;\n",
       "    }\n",
       "\n",
       "    .dataframe tbody tr th {\n",
       "        vertical-align: top;\n",
       "    }\n",
       "\n",
       "    .dataframe thead th {\n",
       "        text-align: right;\n",
       "    }\n",
       "</style>\n",
       "<table border=\"1\" class=\"dataframe\">\n",
       "  <thead>\n",
       "    <tr style=\"text-align: right;\">\n",
       "      <th></th>\n",
       "      <th>Jan</th>\n",
       "      <th>Feb</th>\n",
       "      <th>Mar</th>\n",
       "      <th>Apr</th>\n",
       "      <th>May</th>\n",
       "      <th>Jun</th>\n",
       "      <th>Jul</th>\n",
       "      <th>Aug</th>\n",
       "      <th>Sep</th>\n",
       "      <th>Oct</th>\n",
       "      <th>Nov</th>\n",
       "      <th>Dec</th>\n",
       "    </tr>\n",
       "  </thead>\n",
       "  <tbody>\n",
       "    <tr>\n",
       "      <th>1960</th>\n",
       "      <td>8801.484817</td>\n",
       "      <td>10875.909975</td>\n",
       "      <td>10228.633271</td>\n",
       "      <td>10699.443705</td>\n",
       "      <td>10129.849155</td>\n",
       "      <td>10830.776685</td>\n",
       "      <td>10171.693402</td>\n",
       "      <td>10757.768579</td>\n",
       "      <td>10486.505728</td>\n",
       "      <td>9856.049691</td>\n",
       "      <td>9160.852952</td>\n",
       "      <td>9886.542299</td>\n",
       "    </tr>\n",
       "    <tr>\n",
       "      <th>1961</th>\n",
       "      <td>9724.632919</td>\n",
       "      <td>11680.886813</td>\n",
       "      <td>10067.880594</td>\n",
       "      <td>10245.302677</td>\n",
       "      <td>11059.709168</td>\n",
       "      <td>10854.337218</td>\n",
       "      <td>11933.373297</td>\n",
       "      <td>10397.915940</td>\n",
       "      <td>11321.082223</td>\n",
       "      <td>10341.365915</td>\n",
       "      <td>12482.200215</td>\n",
       "      <td>10307.445235</td>\n",
       "    </tr>\n",
       "    <tr>\n",
       "      <th>1962</th>\n",
       "      <td>14347.092121</td>\n",
       "      <td>13640.992953</td>\n",
       "      <td>12928.257585</td>\n",
       "      <td>12643.107845</td>\n",
       "      <td>14513.871758</td>\n",
       "      <td>12726.614182</td>\n",
       "      <td>13004.303325</td>\n",
       "      <td>11730.413757</td>\n",
       "      <td>8283.283287</td>\n",
       "      <td>11847.911383</td>\n",
       "      <td>11990.112535</td>\n",
       "      <td>12373.377147</td>\n",
       "    </tr>\n",
       "    <tr>\n",
       "      <th>1963</th>\n",
       "      <td>14595.683677</td>\n",
       "      <td>13663.422648</td>\n",
       "      <td>12252.075692</td>\n",
       "      <td>15147.201339</td>\n",
       "      <td>13977.761279</td>\n",
       "      <td>13991.814765</td>\n",
       "      <td>13138.169578</td>\n",
       "      <td>11267.559818</td>\n",
       "      <td>11844.738063</td>\n",
       "      <td>14386.011974</td>\n",
       "      <td>15590.276874</td>\n",
       "      <td>14764.339659</td>\n",
       "    </tr>\n",
       "    <tr>\n",
       "      <th>1964</th>\n",
       "      <td>16483.635763</td>\n",
       "      <td>15538.794384</td>\n",
       "      <td>16112.691559</td>\n",
       "      <td>15801.283343</td>\n",
       "      <td>15288.176399</td>\n",
       "      <td>14592.608338</td>\n",
       "      <td>16251.363168</td>\n",
       "      <td>13437.106166</td>\n",
       "      <td>16054.812004</td>\n",
       "      <td>15232.733896</td>\n",
       "      <td>13455.614214</td>\n",
       "      <td>13723.774067</td>\n",
       "    </tr>\n",
       "    <tr>\n",
       "      <th>1965</th>\n",
       "      <td>16368.074283</td>\n",
       "      <td>16155.611002</td>\n",
       "      <td>17002.359811</td>\n",
       "      <td>17188.234504</td>\n",
       "      <td>16347.897371</td>\n",
       "      <td>16686.354306</td>\n",
       "      <td>16266.356188</td>\n",
       "      <td>19253.420023</td>\n",
       "      <td>16208.040843</td>\n",
       "      <td>17688.227470</td>\n",
       "      <td>17313.072906</td>\n",
       "      <td>19421.162977</td>\n",
       "    </tr>\n",
       "    <tr>\n",
       "      <th>1966</th>\n",
       "      <td>17030.537186</td>\n",
       "      <td>15900.161695</td>\n",
       "      <td>17222.650516</td>\n",
       "      <td>16452.392248</td>\n",
       "      <td>14359.010829</td>\n",
       "      <td>15654.402992</td>\n",
       "      <td>16479.471264</td>\n",
       "      <td>19704.539636</td>\n",
       "      <td>19936.113386</td>\n",
       "      <td>16660.802699</td>\n",
       "      <td>17181.001660</td>\n",
       "      <td>17210.253388</td>\n",
       "    </tr>\n",
       "    <tr>\n",
       "      <th>1967</th>\n",
       "      <td>16427.198762</td>\n",
       "      <td>14464.661204</td>\n",
       "      <td>17848.650357</td>\n",
       "      <td>14636.571410</td>\n",
       "      <td>16722.896928</td>\n",
       "      <td>17367.253689</td>\n",
       "      <td>15228.624992</td>\n",
       "      <td>17515.436080</td>\n",
       "      <td>20229.182137</td>\n",
       "      <td>17747.084970</td>\n",
       "      <td>15769.306785</td>\n",
       "      <td>16032.894341</td>\n",
       "    </tr>\n",
       "  </tbody>\n",
       "</table>\n",
       "</div>"
      ],
      "text/plain": [
       "               Jan           Feb           Mar           Apr           May  \\\n",
       "1960   8801.484817  10875.909975  10228.633271  10699.443705  10129.849155   \n",
       "1961   9724.632919  11680.886813  10067.880594  10245.302677  11059.709168   \n",
       "1962  14347.092121  13640.992953  12928.257585  12643.107845  14513.871758   \n",
       "1963  14595.683677  13663.422648  12252.075692  15147.201339  13977.761279   \n",
       "1964  16483.635763  15538.794384  16112.691559  15801.283343  15288.176399   \n",
       "1965  16368.074283  16155.611002  17002.359811  17188.234504  16347.897371   \n",
       "1966  17030.537186  15900.161695  17222.650516  16452.392248  14359.010829   \n",
       "1967  16427.198762  14464.661204  17848.650357  14636.571410  16722.896928   \n",
       "\n",
       "               Jun           Jul           Aug           Sep           Oct  \\\n",
       "1960  10830.776685  10171.693402  10757.768579  10486.505728   9856.049691   \n",
       "1961  10854.337218  11933.373297  10397.915940  11321.082223  10341.365915   \n",
       "1962  12726.614182  13004.303325  11730.413757   8283.283287  11847.911383   \n",
       "1963  13991.814765  13138.169578  11267.559818  11844.738063  14386.011974   \n",
       "1964  14592.608338  16251.363168  13437.106166  16054.812004  15232.733896   \n",
       "1965  16686.354306  16266.356188  19253.420023  16208.040843  17688.227470   \n",
       "1966  15654.402992  16479.471264  19704.539636  19936.113386  16660.802699   \n",
       "1967  17367.253689  15228.624992  17515.436080  20229.182137  17747.084970   \n",
       "\n",
       "               Nov           Dec  \n",
       "1960   9160.852952   9886.542299  \n",
       "1961  12482.200215  10307.445235  \n",
       "1962  11990.112535  12373.377147  \n",
       "1963  15590.276874  14764.339659  \n",
       "1964  13455.614214  13723.774067  \n",
       "1965  17313.072906  19421.162977  \n",
       "1966  17181.001660  17210.253388  \n",
       "1967  15769.306785  16032.894341  "
      ]
     },
     "execution_count": 65,
     "metadata": {},
     "output_type": "execute_result"
    }
   ],
   "source": [
    "data_deseason"
   ]
  },
  {
   "cell_type": "code",
   "execution_count": 68,
   "metadata": {},
   "outputs": [],
   "source": [
    "data_lr = pd.DataFrame(data_deseason.values.reshape(-1,1), columns=['value'])"
   ]
  },
  {
   "cell_type": "code",
   "execution_count": 71,
   "metadata": {},
   "outputs": [
    {
     "data": {
      "text/plain": [
       "LinearRegression(copy_X=True, fit_intercept=True, n_jobs=None,\n",
       "         normalize=False)"
      ]
     },
     "execution_count": 71,
     "metadata": {},
     "output_type": "execute_result"
    }
   ],
   "source": [
    "from sklearn.linear_model import LinearRegression\n",
    "model = LinearRegression()\n",
    "model.fit(np.arange(1, 97).reshape(-1, 1), data_lr.value.values.reshape(-1, 1) )"
   ]
  },
  {
   "cell_type": "code",
   "execution_count": 70,
   "metadata": {},
   "outputs": [],
   "source": [
    "import numpy as np"
   ]
  },
  {
   "cell_type": "code",
   "execution_count": 73,
   "metadata": {},
   "outputs": [
    {
     "data": {
      "text/html": [
       "<div>\n",
       "<style scoped>\n",
       "    .dataframe tbody tr th:only-of-type {\n",
       "        vertical-align: middle;\n",
       "    }\n",
       "\n",
       "    .dataframe tbody tr th {\n",
       "        vertical-align: top;\n",
       "    }\n",
       "\n",
       "    .dataframe thead th {\n",
       "        text-align: right;\n",
       "    }\n",
       "</style>\n",
       "<table border=\"1\" class=\"dataframe\">\n",
       "  <thead>\n",
       "    <tr style=\"text-align: right;\">\n",
       "      <th></th>\n",
       "      <th>Trend values</th>\n",
       "    </tr>\n",
       "  </thead>\n",
       "  <tbody>\n",
       "    <tr>\n",
       "      <th>Jan</th>\n",
       "      <td>18495.715398</td>\n",
       "    </tr>\n",
       "    <tr>\n",
       "      <th>Feb</th>\n",
       "      <td>18585.274276</td>\n",
       "    </tr>\n",
       "    <tr>\n",
       "      <th>Mar</th>\n",
       "      <td>18674.833155</td>\n",
       "    </tr>\n",
       "    <tr>\n",
       "      <th>Apr</th>\n",
       "      <td>18764.392033</td>\n",
       "    </tr>\n",
       "    <tr>\n",
       "      <th>May</th>\n",
       "      <td>18853.950912</td>\n",
       "    </tr>\n",
       "    <tr>\n",
       "      <th>Jun</th>\n",
       "      <td>18943.509790</td>\n",
       "    </tr>\n",
       "    <tr>\n",
       "      <th>Jul</th>\n",
       "      <td>19033.068669</td>\n",
       "    </tr>\n",
       "    <tr>\n",
       "      <th>Aug</th>\n",
       "      <td>19122.627547</td>\n",
       "    </tr>\n",
       "    <tr>\n",
       "      <th>Sep</th>\n",
       "      <td>19212.186426</td>\n",
       "    </tr>\n",
       "    <tr>\n",
       "      <th>Oct</th>\n",
       "      <td>19301.745304</td>\n",
       "    </tr>\n",
       "    <tr>\n",
       "      <th>Nov</th>\n",
       "      <td>19391.304183</td>\n",
       "    </tr>\n",
       "    <tr>\n",
       "      <th>Dec</th>\n",
       "      <td>19480.863061</td>\n",
       "    </tr>\n",
       "  </tbody>\n",
       "</table>\n",
       "</div>"
      ],
      "text/plain": [
       "     Trend values\n",
       "Jan  18495.715398\n",
       "Feb  18585.274276\n",
       "Mar  18674.833155\n",
       "Apr  18764.392033\n",
       "May  18853.950912\n",
       "Jun  18943.509790\n",
       "Jul  19033.068669\n",
       "Aug  19122.627547\n",
       "Sep  19212.186426\n",
       "Oct  19301.745304\n",
       "Nov  19391.304183\n",
       "Dec  19480.863061"
      ]
     },
     "execution_count": 73,
     "metadata": {},
     "output_type": "execute_result"
    }
   ],
   "source": [
    "pred = pd.DataFrame(model.predict(np.arange(97, 109).reshape(-1, 1)), columns=['Trend values'], index=cols)\n",
    "#pred['Regression equations'] = pred['Trend values'].apply(lambda x: str(np.round(model.coef_[0][0], 2)) + ' * '+ str(np.round(x, 2)) + ' + ' + str(np.round(model.intercept_[0], 2)))\n",
    "pred"
   ]
  },
  {
   "cell_type": "code",
   "execution_count": 75,
   "metadata": {},
   "outputs": [
    {
     "data": {
      "text/html": [
       "<div>\n",
       "<style scoped>\n",
       "    .dataframe tbody tr th:only-of-type {\n",
       "        vertical-align: middle;\n",
       "    }\n",
       "\n",
       "    .dataframe tbody tr th {\n",
       "        vertical-align: top;\n",
       "    }\n",
       "\n",
       "    .dataframe thead th {\n",
       "        text-align: right;\n",
       "    }\n",
       "</style>\n",
       "<table border=\"1\" class=\"dataframe\">\n",
       "  <thead>\n",
       "    <tr style=\"text-align: right;\">\n",
       "      <th></th>\n",
       "      <th>Jan</th>\n",
       "      <th>Feb</th>\n",
       "      <th>Mar</th>\n",
       "      <th>Apr</th>\n",
       "      <th>May</th>\n",
       "      <th>Jun</th>\n",
       "      <th>Jul</th>\n",
       "      <th>Aug</th>\n",
       "      <th>Sep</th>\n",
       "      <th>Oct</th>\n",
       "      <th>Nov</th>\n",
       "      <th>Dec</th>\n",
       "    </tr>\n",
       "  </thead>\n",
       "  <tbody>\n",
       "    <tr>\n",
       "      <th>1960</th>\n",
       "      <td>6550</td>\n",
       "      <td>8728</td>\n",
       "      <td>12026</td>\n",
       "      <td>14395</td>\n",
       "      <td>14587</td>\n",
       "      <td>13791</td>\n",
       "      <td>9498</td>\n",
       "      <td>8251</td>\n",
       "      <td>7049</td>\n",
       "      <td>9545</td>\n",
       "      <td>9364</td>\n",
       "      <td>8456</td>\n",
       "    </tr>\n",
       "    <tr>\n",
       "      <th>1961</th>\n",
       "      <td>7237</td>\n",
       "      <td>9374</td>\n",
       "      <td>11837</td>\n",
       "      <td>13784</td>\n",
       "      <td>15926</td>\n",
       "      <td>13821</td>\n",
       "      <td>11143</td>\n",
       "      <td>7975</td>\n",
       "      <td>7610</td>\n",
       "      <td>10015</td>\n",
       "      <td>12759</td>\n",
       "      <td>8816</td>\n",
       "    </tr>\n",
       "    <tr>\n",
       "      <th>1962</th>\n",
       "      <td>10677</td>\n",
       "      <td>10947</td>\n",
       "      <td>15200</td>\n",
       "      <td>17010</td>\n",
       "      <td>20900</td>\n",
       "      <td>16205</td>\n",
       "      <td>12143</td>\n",
       "      <td>8997</td>\n",
       "      <td>5568</td>\n",
       "      <td>11474</td>\n",
       "      <td>12256</td>\n",
       "      <td>10583</td>\n",
       "    </tr>\n",
       "    <tr>\n",
       "      <th>1963</th>\n",
       "      <td>10862</td>\n",
       "      <td>10965</td>\n",
       "      <td>14405</td>\n",
       "      <td>20379</td>\n",
       "      <td>20128</td>\n",
       "      <td>17816</td>\n",
       "      <td>12268</td>\n",
       "      <td>8642</td>\n",
       "      <td>7962</td>\n",
       "      <td>13932</td>\n",
       "      <td>15936</td>\n",
       "      <td>12628</td>\n",
       "    </tr>\n",
       "    <tr>\n",
       "      <th>1964</th>\n",
       "      <td>12267</td>\n",
       "      <td>12470</td>\n",
       "      <td>18944</td>\n",
       "      <td>21259</td>\n",
       "      <td>22015</td>\n",
       "      <td>18581</td>\n",
       "      <td>15175</td>\n",
       "      <td>10306</td>\n",
       "      <td>10792</td>\n",
       "      <td>14752</td>\n",
       "      <td>13754</td>\n",
       "      <td>11738</td>\n",
       "    </tr>\n",
       "    <tr>\n",
       "      <th>1965</th>\n",
       "      <td>12181</td>\n",
       "      <td>12965</td>\n",
       "      <td>19990</td>\n",
       "      <td>23125</td>\n",
       "      <td>23541</td>\n",
       "      <td>21247</td>\n",
       "      <td>15189</td>\n",
       "      <td>14767</td>\n",
       "      <td>10895</td>\n",
       "      <td>17130</td>\n",
       "      <td>17697</td>\n",
       "      <td>16611</td>\n",
       "    </tr>\n",
       "    <tr>\n",
       "      <th>1966</th>\n",
       "      <td>12674</td>\n",
       "      <td>12760</td>\n",
       "      <td>20249</td>\n",
       "      <td>22135</td>\n",
       "      <td>20677</td>\n",
       "      <td>19933</td>\n",
       "      <td>15388</td>\n",
       "      <td>15113</td>\n",
       "      <td>13401</td>\n",
       "      <td>16135</td>\n",
       "      <td>17562</td>\n",
       "      <td>14720</td>\n",
       "    </tr>\n",
       "    <tr>\n",
       "      <th>1967</th>\n",
       "      <td>12225</td>\n",
       "      <td>11608</td>\n",
       "      <td>20985</td>\n",
       "      <td>19692</td>\n",
       "      <td>24081</td>\n",
       "      <td>22114</td>\n",
       "      <td>14220</td>\n",
       "      <td>13434</td>\n",
       "      <td>13598</td>\n",
       "      <td>17187</td>\n",
       "      <td>16119</td>\n",
       "      <td>13713</td>\n",
       "    </tr>\n",
       "    <tr>\n",
       "      <th>1968</th>\n",
       "      <td>13210</td>\n",
       "      <td>14251</td>\n",
       "      <td>20139</td>\n",
       "      <td>21725</td>\n",
       "      <td>26099</td>\n",
       "      <td>21084</td>\n",
       "      <td>18024</td>\n",
       "      <td>16722</td>\n",
       "      <td>14385</td>\n",
       "      <td>21342</td>\n",
       "      <td>17180</td>\n",
       "      <td>14577</td>\n",
       "    </tr>\n",
       "  </tbody>\n",
       "</table>\n",
       "</div>"
      ],
      "text/plain": [
       "        Jan    Feb    Mar    Apr    May    Jun    Jul    Aug    Sep    Oct  \\\n",
       "1960   6550   8728  12026  14395  14587  13791   9498   8251   7049   9545   \n",
       "1961   7237   9374  11837  13784  15926  13821  11143   7975   7610  10015   \n",
       "1962  10677  10947  15200  17010  20900  16205  12143   8997   5568  11474   \n",
       "1963  10862  10965  14405  20379  20128  17816  12268   8642   7962  13932   \n",
       "1964  12267  12470  18944  21259  22015  18581  15175  10306  10792  14752   \n",
       "1965  12181  12965  19990  23125  23541  21247  15189  14767  10895  17130   \n",
       "1966  12674  12760  20249  22135  20677  19933  15388  15113  13401  16135   \n",
       "1967  12225  11608  20985  19692  24081  22114  14220  13434  13598  17187   \n",
       "1968  13210  14251  20139  21725  26099  21084  18024  16722  14385  21342   \n",
       "\n",
       "        Nov    Dec  \n",
       "1960   9364   8456  \n",
       "1961  12759   8816  \n",
       "1962  12256  10583  \n",
       "1963  15936  12628  \n",
       "1964  13754  11738  \n",
       "1965  17697  16611  \n",
       "1966  17562  14720  \n",
       "1967  16119  13713  \n",
       "1968  17180  14577  "
      ]
     },
     "execution_count": 75,
     "metadata": {},
     "output_type": "execute_result"
    }
   ],
   "source": [
    "data_year"
   ]
  },
  {
   "cell_type": "code",
   "execution_count": 77,
   "metadata": {},
   "outputs": [],
   "source": [
    "data_train = data.iloc[:96,].copy()"
   ]
  },
  {
   "cell_type": "code",
   "execution_count": 78,
   "metadata": {},
   "outputs": [],
   "source": [
    "data_test = data.iloc[96:,].copy()"
   ]
  },
  {
   "cell_type": "code",
   "execution_count": 79,
   "metadata": {},
   "outputs": [
    {
     "data": {
      "text/html": [
       "<div>\n",
       "<style scoped>\n",
       "    .dataframe tbody tr th:only-of-type {\n",
       "        vertical-align: middle;\n",
       "    }\n",
       "\n",
       "    .dataframe tbody tr th {\n",
       "        vertical-align: top;\n",
       "    }\n",
       "\n",
       "    .dataframe thead th {\n",
       "        text-align: right;\n",
       "    }\n",
       "</style>\n",
       "<table border=\"1\" class=\"dataframe\">\n",
       "  <thead>\n",
       "    <tr style=\"text-align: right;\">\n",
       "      <th></th>\n",
       "      <th>Sales</th>\n",
       "    </tr>\n",
       "    <tr>\n",
       "      <th>Month</th>\n",
       "      <th></th>\n",
       "    </tr>\n",
       "  </thead>\n",
       "  <tbody>\n",
       "    <tr>\n",
       "      <th>1968-01-01</th>\n",
       "      <td>13210</td>\n",
       "    </tr>\n",
       "    <tr>\n",
       "      <th>1968-02-01</th>\n",
       "      <td>14251</td>\n",
       "    </tr>\n",
       "    <tr>\n",
       "      <th>1968-03-01</th>\n",
       "      <td>20139</td>\n",
       "    </tr>\n",
       "    <tr>\n",
       "      <th>1968-04-01</th>\n",
       "      <td>21725</td>\n",
       "    </tr>\n",
       "    <tr>\n",
       "      <th>1968-05-01</th>\n",
       "      <td>26099</td>\n",
       "    </tr>\n",
       "    <tr>\n",
       "      <th>1968-06-01</th>\n",
       "      <td>21084</td>\n",
       "    </tr>\n",
       "    <tr>\n",
       "      <th>1968-07-01</th>\n",
       "      <td>18024</td>\n",
       "    </tr>\n",
       "    <tr>\n",
       "      <th>1968-08-01</th>\n",
       "      <td>16722</td>\n",
       "    </tr>\n",
       "    <tr>\n",
       "      <th>1968-09-01</th>\n",
       "      <td>14385</td>\n",
       "    </tr>\n",
       "    <tr>\n",
       "      <th>1968-10-01</th>\n",
       "      <td>21342</td>\n",
       "    </tr>\n",
       "    <tr>\n",
       "      <th>1968-11-01</th>\n",
       "      <td>17180</td>\n",
       "    </tr>\n",
       "    <tr>\n",
       "      <th>1968-12-01</th>\n",
       "      <td>14577</td>\n",
       "    </tr>\n",
       "  </tbody>\n",
       "</table>\n",
       "</div>"
      ],
      "text/plain": [
       "            Sales\n",
       "Month            \n",
       "1968-01-01  13210\n",
       "1968-02-01  14251\n",
       "1968-03-01  20139\n",
       "1968-04-01  21725\n",
       "1968-05-01  26099\n",
       "1968-06-01  21084\n",
       "1968-07-01  18024\n",
       "1968-08-01  16722\n",
       "1968-09-01  14385\n",
       "1968-10-01  21342\n",
       "1968-11-01  17180\n",
       "1968-12-01  14577"
      ]
     },
     "execution_count": 79,
     "metadata": {},
     "output_type": "execute_result"
    }
   ],
   "source": [
    "from statsmodels.tsa.arima_model"
   ]
  },
  {
   "cell_type": "code",
   "execution_count": null,
   "metadata": {},
   "outputs": [],
   "source": []
  }
 ],
 "metadata": {
  "kernelspec": {
   "display_name": "Python 3",
   "language": "python",
   "name": "python3"
  },
  "language_info": {
   "codemirror_mode": {
    "name": "ipython",
    "version": 3
   },
   "file_extension": ".py",
   "mimetype": "text/x-python",
   "name": "python",
   "nbconvert_exporter": "python",
   "pygments_lexer": "ipython3",
   "version": "3.7.1"
  }
 },
 "nbformat": 4,
 "nbformat_minor": 2
}
