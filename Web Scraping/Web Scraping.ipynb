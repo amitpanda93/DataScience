{
 "cells": [
  {
   "cell_type": "markdown",
   "metadata": {},
   "source": [
    "## Web Scraping"
   ]
  },
  {
   "cell_type": "code",
   "execution_count": 4,
   "metadata": {},
   "outputs": [],
   "source": [
    "Web scraping is used to collect large information from websites.\n",
    "\n",
    "let’s look at the applications of web scraping:\n",
    "\n",
    "Price Comparison: Services such as ParseHub use web scraping to collect data from online shopping websites \n",
    "and use it to compare the prices of products.\n",
    "\n",
    "Email address gathering: Many companies that use email as a medium for marketing, \n",
    "use web scraping to collect email ID and then send bulk emails.\n",
    "\n",
    "Social Media Scraping: Web scraping is used to collect data from Social Media websites \n",
    "such as Twitter to find out what’s trending.\n",
    "Research and Development: Web scraping is used to collect a large set of data \n",
    "(Statistics, General Information, Temperature, etc.) from websites, \n",
    "which are analyzed and used to carry out Surveys or for R&D.\n",
    "\n",
    "Job listings: Details regarding job openings, interviews are collected from different websites \n",
    "and then listed in one place so that it is easily accessible to the user."
   ]
  },
  {
   "cell_type": "code",
   "execution_count": 5,
   "metadata": {},
   "outputs": [],
   "source": [
    "Web scraping is an automated method used to extract large amounts of data from websites. \n",
    "The data on the websites are unstructured. \n",
    "Web scraping helps collect these unstructured data and store it in a structured form. \n",
    "There are different ways to scrape websites such as online Services, APIs or writing your own code. \n",
    "In this article, we’ll see how to implement web scraping with python. "
   ]
  },
  {
   "cell_type": "code",
   "execution_count": null,
   "metadata": {},
   "outputs": [],
   "source": []
  }
 ],
 "metadata": {
  "kernelspec": {
   "display_name": "Python 3",
   "language": "python",
   "name": "python3"
  },
  "language_info": {
   "codemirror_mode": {
    "name": "ipython",
    "version": 3
   },
   "file_extension": ".py",
   "mimetype": "text/x-python",
   "name": "python",
   "nbconvert_exporter": "python",
   "pygments_lexer": "ipython3",
   "version": "3.7.1"
  }
 },
 "nbformat": 4,
 "nbformat_minor": 2
}
