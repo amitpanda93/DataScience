{
 "cells": [
  {
   "cell_type": "code",
   "execution_count": 27,
   "metadata": {},
   "outputs": [],
   "source": [
    "# Problem Statement\n",
    "# A retail company “ABC Private Limited” wants to understand the customer purchase behaviour \n",
    "# (specifically, purchase amount) against various products of different categories. \n",
    "# They have shared purchase summary of various customers for selected high volume products from last month.\n",
    "\n",
    "# The data set also contains \n",
    "# customer demographics (age, gender, marital status, city_type, stay_in_current_city), \n",
    "# product details (product_id and product category) \n",
    "# and Total purchase_amount from last month.\n",
    "\n",
    "# Now, they want to build a model to predict the purchase amount of customer against \n",
    "# various products which will help them to create personalized offer for customers against different products."
   ]
  },
  {
   "cell_type": "code",
   "execution_count": 28,
   "metadata": {},
   "outputs": [],
   "source": [
    "# Data\n",
    "\n",
    "# Variable\tDefinition\n",
    "\n",
    "# User_ID\tUser ID\n",
    "# Product_ID\tProduct ID\n",
    "# Gender\tSex of User\n",
    "# Age\tAge in bins\n",
    "# Occupation\tOccupation (Masked)\n",
    "# City_Category\tCategory of the City (A,B,C)\n",
    "# Stay_In_Current_City_Years\tNumber of years stay in current city\n",
    "# Marital_Status\tMarital Status\n",
    "# Product_Category_1\tProduct Category (Masked)\n",
    "# Product_Category_2\tProduct may belong to other category also (Masked)\n",
    "# Product_Category_3\tProduct may belong to other category also (Masked)\n",
    "# Purchase\tPurchase Amount (Target Variable)\n",
    "# Your model performance will be evaluated on the basis of your prediction \n",
    "# of the purchase amount for the test data (test.csv), \n",
    "# which contains similar data-points as train except for their purchase amount. \n",
    "# Your submission needs to be in the format as shown in \"SampleSubmission.csv\".\n",
    "\n",
    "# We at our end, have the actual purchase amount for the test dataset, \n",
    "# against which your predictions will be evaluated. \n",
    "# Submissions are scored on the root mean squared error (RMSE). \n",
    "# RMSE is very common and is a suitable general-purpose error metric. \n",
    "# Compared to the Mean Absolute Error, RMSE punishes large errors:"
   ]
  },
  {
   "cell_type": "code",
   "execution_count": 29,
   "metadata": {},
   "outputs": [],
   "source": [
    "import pandas as pd\n",
    "import seaborn as sns\n",
    "import matplotlib.pyplot as plt\n",
    "%matplotlib inline\n",
    "\n",
    "from sklearn.model_selection import cross_val_score\n",
    "\n",
    "\n",
    "import warnings\n",
    "warnings.filterwarnings(\"ignore\")"
   ]
  },
  {
   "cell_type": "code",
   "execution_count": 30,
   "metadata": {},
   "outputs": [
    {
     "data": {
      "text/html": [
       "<div>\n",
       "<style scoped>\n",
       "    .dataframe tbody tr th:only-of-type {\n",
       "        vertical-align: middle;\n",
       "    }\n",
       "\n",
       "    .dataframe tbody tr th {\n",
       "        vertical-align: top;\n",
       "    }\n",
       "\n",
       "    .dataframe thead th {\n",
       "        text-align: right;\n",
       "    }\n",
       "</style>\n",
       "<table border=\"1\" class=\"dataframe\">\n",
       "  <thead>\n",
       "    <tr style=\"text-align: right;\">\n",
       "      <th></th>\n",
       "      <th>User_ID</th>\n",
       "      <th>Product_ID</th>\n",
       "      <th>Gender</th>\n",
       "      <th>Age</th>\n",
       "      <th>Occupation</th>\n",
       "      <th>City_Category</th>\n",
       "      <th>Stay_In_Current_City_Years</th>\n",
       "      <th>Marital_Status</th>\n",
       "      <th>Product_Category_1</th>\n",
       "      <th>Product_Category_2</th>\n",
       "      <th>Product_Category_3</th>\n",
       "      <th>Purchase</th>\n",
       "    </tr>\n",
       "  </thead>\n",
       "  <tbody>\n",
       "    <tr>\n",
       "      <th>0</th>\n",
       "      <td>1000001</td>\n",
       "      <td>P00069042</td>\n",
       "      <td>F</td>\n",
       "      <td>0-17</td>\n",
       "      <td>10</td>\n",
       "      <td>A</td>\n",
       "      <td>2</td>\n",
       "      <td>0</td>\n",
       "      <td>3</td>\n",
       "      <td>NaN</td>\n",
       "      <td>NaN</td>\n",
       "      <td>8370</td>\n",
       "    </tr>\n",
       "    <tr>\n",
       "      <th>1</th>\n",
       "      <td>1000001</td>\n",
       "      <td>P00248942</td>\n",
       "      <td>F</td>\n",
       "      <td>0-17</td>\n",
       "      <td>10</td>\n",
       "      <td>A</td>\n",
       "      <td>2</td>\n",
       "      <td>0</td>\n",
       "      <td>1</td>\n",
       "      <td>6.0</td>\n",
       "      <td>14.0</td>\n",
       "      <td>15200</td>\n",
       "    </tr>\n",
       "    <tr>\n",
       "      <th>2</th>\n",
       "      <td>1000001</td>\n",
       "      <td>P00087842</td>\n",
       "      <td>F</td>\n",
       "      <td>0-17</td>\n",
       "      <td>10</td>\n",
       "      <td>A</td>\n",
       "      <td>2</td>\n",
       "      <td>0</td>\n",
       "      <td>12</td>\n",
       "      <td>NaN</td>\n",
       "      <td>NaN</td>\n",
       "      <td>1422</td>\n",
       "    </tr>\n",
       "    <tr>\n",
       "      <th>3</th>\n",
       "      <td>1000001</td>\n",
       "      <td>P00085442</td>\n",
       "      <td>F</td>\n",
       "      <td>0-17</td>\n",
       "      <td>10</td>\n",
       "      <td>A</td>\n",
       "      <td>2</td>\n",
       "      <td>0</td>\n",
       "      <td>12</td>\n",
       "      <td>14.0</td>\n",
       "      <td>NaN</td>\n",
       "      <td>1057</td>\n",
       "    </tr>\n",
       "    <tr>\n",
       "      <th>4</th>\n",
       "      <td>1000002</td>\n",
       "      <td>P00285442</td>\n",
       "      <td>M</td>\n",
       "      <td>55+</td>\n",
       "      <td>16</td>\n",
       "      <td>C</td>\n",
       "      <td>4+</td>\n",
       "      <td>0</td>\n",
       "      <td>8</td>\n",
       "      <td>NaN</td>\n",
       "      <td>NaN</td>\n",
       "      <td>7969</td>\n",
       "    </tr>\n",
       "  </tbody>\n",
       "</table>\n",
       "</div>"
      ],
      "text/plain": [
       "   User_ID Product_ID Gender   Age  Occupation City_Category  \\\n",
       "0  1000001  P00069042      F  0-17          10             A   \n",
       "1  1000001  P00248942      F  0-17          10             A   \n",
       "2  1000001  P00087842      F  0-17          10             A   \n",
       "3  1000001  P00085442      F  0-17          10             A   \n",
       "4  1000002  P00285442      M   55+          16             C   \n",
       "\n",
       "  Stay_In_Current_City_Years  Marital_Status  Product_Category_1  \\\n",
       "0                          2               0                   3   \n",
       "1                          2               0                   1   \n",
       "2                          2               0                  12   \n",
       "3                          2               0                  12   \n",
       "4                         4+               0                   8   \n",
       "\n",
       "   Product_Category_2  Product_Category_3  Purchase  \n",
       "0                 NaN                 NaN      8370  \n",
       "1                 6.0                14.0     15200  \n",
       "2                 NaN                 NaN      1422  \n",
       "3                14.0                 NaN      1057  \n",
       "4                 NaN                 NaN      7969  "
      ]
     },
     "execution_count": 30,
     "metadata": {},
     "output_type": "execute_result"
    }
   ],
   "source": [
    "data = pd.read_csv(\"train.csv\")\n",
    "data.head()"
   ]
  },
  {
   "cell_type": "code",
   "execution_count": 31,
   "metadata": {},
   "outputs": [
    {
     "data": {
      "text/html": [
       "<div>\n",
       "<style scoped>\n",
       "    .dataframe tbody tr th:only-of-type {\n",
       "        vertical-align: middle;\n",
       "    }\n",
       "\n",
       "    .dataframe tbody tr th {\n",
       "        vertical-align: top;\n",
       "    }\n",
       "\n",
       "    .dataframe thead th {\n",
       "        text-align: right;\n",
       "    }\n",
       "</style>\n",
       "<table border=\"1\" class=\"dataframe\">\n",
       "  <thead>\n",
       "    <tr style=\"text-align: right;\">\n",
       "      <th></th>\n",
       "      <th>User_ID</th>\n",
       "      <th>Product_ID</th>\n",
       "      <th>Gender</th>\n",
       "      <th>Age</th>\n",
       "      <th>Occupation</th>\n",
       "      <th>City_Category</th>\n",
       "      <th>Stay_In_Current_City_Years</th>\n",
       "      <th>Marital_Status</th>\n",
       "      <th>Product_Category_1</th>\n",
       "      <th>Product_Category_2</th>\n",
       "      <th>Product_Category_3</th>\n",
       "    </tr>\n",
       "  </thead>\n",
       "  <tbody>\n",
       "    <tr>\n",
       "      <th>0</th>\n",
       "      <td>1000004</td>\n",
       "      <td>P00128942</td>\n",
       "      <td>M</td>\n",
       "      <td>46-50</td>\n",
       "      <td>7</td>\n",
       "      <td>B</td>\n",
       "      <td>2</td>\n",
       "      <td>1</td>\n",
       "      <td>1</td>\n",
       "      <td>11.0</td>\n",
       "      <td>NaN</td>\n",
       "    </tr>\n",
       "    <tr>\n",
       "      <th>1</th>\n",
       "      <td>1000009</td>\n",
       "      <td>P00113442</td>\n",
       "      <td>M</td>\n",
       "      <td>26-35</td>\n",
       "      <td>17</td>\n",
       "      <td>C</td>\n",
       "      <td>0</td>\n",
       "      <td>0</td>\n",
       "      <td>3</td>\n",
       "      <td>5.0</td>\n",
       "      <td>NaN</td>\n",
       "    </tr>\n",
       "    <tr>\n",
       "      <th>2</th>\n",
       "      <td>1000010</td>\n",
       "      <td>P00288442</td>\n",
       "      <td>F</td>\n",
       "      <td>36-45</td>\n",
       "      <td>1</td>\n",
       "      <td>B</td>\n",
       "      <td>4+</td>\n",
       "      <td>1</td>\n",
       "      <td>5</td>\n",
       "      <td>14.0</td>\n",
       "      <td>NaN</td>\n",
       "    </tr>\n",
       "    <tr>\n",
       "      <th>3</th>\n",
       "      <td>1000010</td>\n",
       "      <td>P00145342</td>\n",
       "      <td>F</td>\n",
       "      <td>36-45</td>\n",
       "      <td>1</td>\n",
       "      <td>B</td>\n",
       "      <td>4+</td>\n",
       "      <td>1</td>\n",
       "      <td>4</td>\n",
       "      <td>9.0</td>\n",
       "      <td>NaN</td>\n",
       "    </tr>\n",
       "    <tr>\n",
       "      <th>4</th>\n",
       "      <td>1000011</td>\n",
       "      <td>P00053842</td>\n",
       "      <td>F</td>\n",
       "      <td>26-35</td>\n",
       "      <td>1</td>\n",
       "      <td>C</td>\n",
       "      <td>1</td>\n",
       "      <td>0</td>\n",
       "      <td>4</td>\n",
       "      <td>5.0</td>\n",
       "      <td>12.0</td>\n",
       "    </tr>\n",
       "  </tbody>\n",
       "</table>\n",
       "</div>"
      ],
      "text/plain": [
       "   User_ID Product_ID Gender    Age  Occupation City_Category  \\\n",
       "0  1000004  P00128942      M  46-50           7             B   \n",
       "1  1000009  P00113442      M  26-35          17             C   \n",
       "2  1000010  P00288442      F  36-45           1             B   \n",
       "3  1000010  P00145342      F  36-45           1             B   \n",
       "4  1000011  P00053842      F  26-35           1             C   \n",
       "\n",
       "  Stay_In_Current_City_Years  Marital_Status  Product_Category_1  \\\n",
       "0                          2               1                   1   \n",
       "1                          0               0                   3   \n",
       "2                         4+               1                   5   \n",
       "3                         4+               1                   4   \n",
       "4                          1               0                   4   \n",
       "\n",
       "   Product_Category_2  Product_Category_3  \n",
       "0                11.0                 NaN  \n",
       "1                 5.0                 NaN  \n",
       "2                14.0                 NaN  \n",
       "3                 9.0                 NaN  \n",
       "4                 5.0                12.0  "
      ]
     },
     "execution_count": 31,
     "metadata": {},
     "output_type": "execute_result"
    }
   ],
   "source": [
    "test_data = pd.read_csv(\"test.csv\")\n",
    "test_data.head()"
   ]
  },
  {
   "cell_type": "code",
   "execution_count": 32,
   "metadata": {},
   "outputs": [
    {
     "data": {
      "text/plain": [
       "(550068, 12)"
      ]
     },
     "execution_count": 32,
     "metadata": {},
     "output_type": "execute_result"
    }
   ],
   "source": [
    "data.shape"
   ]
  },
  {
   "cell_type": "code",
   "execution_count": 33,
   "metadata": {},
   "outputs": [
    {
     "data": {
      "text/plain": [
       "(233599, 11)"
      ]
     },
     "execution_count": 33,
     "metadata": {},
     "output_type": "execute_result"
    }
   ],
   "source": [
    "test_data.shape"
   ]
  },
  {
   "cell_type": "code",
   "execution_count": 34,
   "metadata": {},
   "outputs": [],
   "source": [
    "# We do not need User ID and Product ID\n",
    "# User ID -> Gender/Age/Occupation/CityCategory/StayinCurrentCity/MaritalStatus\n",
    "# Product ID -> Product Categories"
   ]
  },
  {
   "cell_type": "code",
   "execution_count": null,
   "metadata": {},
   "outputs": [],
   "source": []
  },
  {
   "cell_type": "code",
   "execution_count": 35,
   "metadata": {},
   "outputs": [
    {
     "name": "stdout",
     "output_type": "stream",
     "text": [
      "User_ID                         int64\n",
      "Product_ID                     object\n",
      "Gender                         object\n",
      "Age                            object\n",
      "Occupation                      int64\n",
      "City_Category                  object\n",
      "Stay_In_Current_City_Years     object\n",
      "Marital_Status                  int64\n",
      "Product_Category_1              int64\n",
      "Product_Category_2            float64\n",
      "Product_Category_3            float64\n",
      "Purchase                        int64\n",
      "dtype: object\n"
     ]
    }
   ],
   "source": [
    "print(data.dtypes)"
   ]
  },
  {
   "cell_type": "code",
   "execution_count": 36,
   "metadata": {},
   "outputs": [],
   "source": [
    "data.Occupation = data.Occupation.astype(object)\n",
    "test_data.Occupation = test_data.Occupation.astype(object)"
   ]
  },
  {
   "cell_type": "code",
   "execution_count": 37,
   "metadata": {},
   "outputs": [
    {
     "name": "stdout",
     "output_type": "stream",
     "text": [
      "User_ID                         int64\n",
      "Product_ID                     object\n",
      "Gender                         object\n",
      "Age                            object\n",
      "Occupation                     object\n",
      "City_Category                  object\n",
      "Stay_In_Current_City_Years     object\n",
      "Marital_Status                  int64\n",
      "Product_Category_1              int64\n",
      "Product_Category_2            float64\n",
      "Product_Category_3            float64\n",
      "Purchase                        int64\n",
      "dtype: object\n"
     ]
    }
   ],
   "source": [
    "print(data.dtypes)"
   ]
  },
  {
   "cell_type": "code",
   "execution_count": 38,
   "metadata": {},
   "outputs": [],
   "source": [
    "data.Marital_Status = data.Marital_Status.astype(object)\n",
    "test_data.Marital_Status = test_data.Marital_Status.astype(object)"
   ]
  },
  {
   "cell_type": "code",
   "execution_count": 39,
   "metadata": {},
   "outputs": [
    {
     "name": "stdout",
     "output_type": "stream",
     "text": [
      "1001680    1026\n",
      "1004277     979\n",
      "1001941     898\n",
      "1001181     862\n",
      "1000889     823\n",
      "1003618     767\n",
      "1001150     752\n",
      "1001015     740\n",
      "1005795     729\n",
      "1005831     727\n",
      "1002909     718\n",
      "1001449     714\n",
      "1002063     709\n",
      "1004344     705\n",
      "1003391     698\n",
      "1003841     698\n",
      "1000424     694\n",
      "1004510     691\n",
      "1001980     685\n",
      "1001088     680\n",
      "1004227     676\n",
      "1003808     671\n",
      "1004508     651\n",
      "1000549     632\n",
      "1003224     622\n",
      "1003539     617\n",
      "1005367     612\n",
      "1001285     606\n",
      "1004543     588\n",
      "1003824     584\n",
      "           ... \n",
      "1001318       9\n",
      "1004178       9\n",
      "1004464       9\n",
      "1005043       9\n",
      "1003388       9\n",
      "1003883       9\n",
      "1005117       9\n",
      "1002160       9\n",
      "1002893       9\n",
      "1002061       9\n",
      "1004068       9\n",
      "1002037       9\n",
      "1004527       8\n",
      "1003291       8\n",
      "1002965       8\n",
      "1002488       8\n",
      "1000320       8\n",
      "1003542       8\n",
      "1002135       8\n",
      "1003275       8\n",
      "1005904       8\n",
      "1004192       8\n",
      "1005810       7\n",
      "1005391       7\n",
      "1002690       7\n",
      "1000094       7\n",
      "1002111       7\n",
      "1004991       7\n",
      "1005608       7\n",
      "1000708       6\n",
      "Name: User_ID, Length: 5891, dtype: int64\n",
      "P00265242    1880\n",
      "P00025442    1615\n",
      "P00110742    1612\n",
      "P00112142    1562\n",
      "P00057642    1470\n",
      "P00184942    1440\n",
      "P00046742    1438\n",
      "P00058042    1422\n",
      "P00059442    1406\n",
      "P00145042    1406\n",
      "P00237542    1394\n",
      "P00255842    1383\n",
      "P00117942    1364\n",
      "P00110942    1360\n",
      "P00010742    1350\n",
      "P00220442    1282\n",
      "P00110842    1281\n",
      "P00117442    1260\n",
      "P00051442    1249\n",
      "P00102642    1246\n",
      "P00278642    1226\n",
      "P00242742    1215\n",
      "P00034742    1212\n",
      "P00148642    1204\n",
      "P00080342    1203\n",
      "P00031042    1200\n",
      "P00028842    1197\n",
      "P00251242    1187\n",
      "P00114942    1178\n",
      "P00000142    1152\n",
      "             ... \n",
      "P00166442       1\n",
      "P00275042       1\n",
      "P00185942       1\n",
      "P00072042       1\n",
      "P00065542       1\n",
      "P00144942       1\n",
      "P00305542       1\n",
      "P00077242       1\n",
      "P00126742       1\n",
      "P00027842       1\n",
      "P00292142       1\n",
      "P00013542       1\n",
      "P00224642       1\n",
      "P00204442       1\n",
      "P00083542       1\n",
      "P00143242       1\n",
      "P00056542       1\n",
      "P00203942       1\n",
      "P00013842       1\n",
      "P00075042       1\n",
      "P00315242       1\n",
      "P00070142       1\n",
      "P00053242       1\n",
      "P00299042       1\n",
      "P00169842       1\n",
      "P00206242       1\n",
      "P00309042       1\n",
      "P00203242       1\n",
      "P00336242       1\n",
      "P00142542       1\n",
      "Name: Product_ID, Length: 3631, dtype: int64\n",
      "M    414259\n",
      "F    135809\n",
      "Name: Gender, dtype: int64\n",
      "26-35    219587\n",
      "36-45    110013\n",
      "18-25     99660\n",
      "46-50     45701\n",
      "51-55     38501\n",
      "55+       21504\n",
      "0-17      15102\n",
      "Name: Age, dtype: int64\n",
      "4     72308\n",
      "0     69638\n",
      "7     59133\n",
      "1     47426\n",
      "17    40043\n",
      "20    33562\n",
      "12    31179\n",
      "14    27309\n",
      "2     26588\n",
      "16    25371\n",
      "6     20355\n",
      "3     17650\n",
      "10    12930\n",
      "5     12177\n",
      "15    12165\n",
      "11    11586\n",
      "19     8461\n",
      "13     7728\n",
      "18     6622\n",
      "9      6291\n",
      "8      1546\n",
      "Name: Occupation, dtype: int64\n",
      "B    231173\n",
      "C    171175\n",
      "A    147720\n",
      "Name: City_Category, dtype: int64\n",
      "1     193821\n",
      "2     101838\n",
      "3      95285\n",
      "4+     84726\n",
      "0      74398\n",
      "Name: Stay_In_Current_City_Years, dtype: int64\n",
      "0    324731\n",
      "1    225337\n",
      "Name: Marital_Status, dtype: int64\n",
      "5     150933\n",
      "1     140378\n",
      "8     113925\n",
      "11     24287\n",
      "2      23864\n",
      "6      20466\n",
      "3      20213\n",
      "4      11753\n",
      "16      9828\n",
      "15      6290\n",
      "13      5549\n",
      "10      5125\n",
      "12      3947\n",
      "7       3721\n",
      "18      3125\n",
      "20      2550\n",
      "19      1603\n",
      "14      1523\n",
      "17       578\n",
      "9        410\n",
      "Name: Product_Category_1, dtype: int64\n",
      "8.0     64088\n",
      "14.0    55108\n",
      "2.0     49217\n",
      "16.0    43255\n",
      "15.0    37855\n",
      "5.0     26235\n",
      "4.0     25677\n",
      "6.0     16466\n",
      "11.0    14134\n",
      "17.0    13320\n",
      "13.0    10531\n",
      "9.0      5693\n",
      "12.0     5528\n",
      "10.0     3043\n",
      "3.0      2884\n",
      "18.0     2770\n",
      "7.0       626\n",
      "Name: Product_Category_2, dtype: int64\n",
      "16.0    32636\n",
      "15.0    28013\n",
      "14.0    18428\n",
      "17.0    16702\n",
      "5.0     16658\n",
      "8.0     12562\n",
      "9.0     11579\n",
      "12.0     9246\n",
      "13.0     5459\n",
      "6.0      4890\n",
      "18.0     4629\n",
      "4.0      1875\n",
      "11.0     1805\n",
      "10.0     1726\n",
      "3.0       613\n",
      "Name: Product_Category_3, dtype: int64\n",
      "7011     191\n",
      "7193     188\n",
      "6855     187\n",
      "6891     184\n",
      "6960     183\n",
      "7012     183\n",
      "6879     182\n",
      "7166     182\n",
      "7027     182\n",
      "7165     180\n",
      "6868     180\n",
      "6883     180\n",
      "6858     179\n",
      "7185     178\n",
      "6923     178\n",
      "7089     178\n",
      "6931     178\n",
      "7093     178\n",
      "7114     177\n",
      "7188     177\n",
      "7060     176\n",
      "6908     176\n",
      "7085     176\n",
      "7167     175\n",
      "7159     175\n",
      "6973     175\n",
      "7146     175\n",
      "6928     175\n",
      "6949     175\n",
      "7192     174\n",
      "        ... \n",
      "14650      1\n",
      "15063      1\n",
      "17112      1\n",
      "11151      1\n",
      "3365       1\n",
      "4724       1\n",
      "14296      1\n",
      "10499      1\n",
      "5687       1\n",
      "14593      1\n",
      "23855      1\n",
      "17366      1\n",
      "23863      1\n",
      "10355      1\n",
      "2931       1\n",
      "6708       1\n",
      "349        1\n",
      "3389       1\n",
      "14896      1\n",
      "4868       1\n",
      "14114      1\n",
      "208        1\n",
      "14682      1\n",
      "14138      1\n",
      "10290      1\n",
      "15105      1\n",
      "14384      1\n",
      "10453      1\n",
      "8537       1\n",
      "14640      1\n",
      "Name: Purchase, Length: 18105, dtype: int64\n"
     ]
    }
   ],
   "source": [
    "for col in data.columns:\n",
    "    print(data[col].value_counts())"
   ]
  },
  {
   "cell_type": "code",
   "execution_count": null,
   "metadata": {},
   "outputs": [],
   "source": []
  },
  {
   "cell_type": "code",
   "execution_count": 40,
   "metadata": {},
   "outputs": [],
   "source": [
    "data.fillna(0, inplace = True)\n",
    "test_data.fillna(0, inplace = True)"
   ]
  },
  {
   "cell_type": "code",
   "execution_count": null,
   "metadata": {},
   "outputs": [],
   "source": []
  },
  {
   "cell_type": "code",
   "execution_count": 41,
   "metadata": {},
   "outputs": [
    {
     "data": {
      "text/plain": [
       "User_ID                       0\n",
       "Product_ID                    0\n",
       "Gender                        0\n",
       "Age                           0\n",
       "Occupation                    0\n",
       "City_Category                 0\n",
       "Stay_In_Current_City_Years    0\n",
       "Marital_Status                0\n",
       "Product_Category_1            0\n",
       "Product_Category_2            0\n",
       "Product_Category_3            0\n",
       "Purchase                      0\n",
       "dtype: int64"
      ]
     },
     "execution_count": 41,
     "metadata": {},
     "output_type": "execute_result"
    }
   ],
   "source": [
    "data.isnull().sum()"
   ]
  },
  {
   "cell_type": "code",
   "execution_count": 42,
   "metadata": {},
   "outputs": [
    {
     "data": {
      "text/plain": [
       "User_ID                       0\n",
       "Product_ID                    0\n",
       "Gender                        0\n",
       "Age                           0\n",
       "Occupation                    0\n",
       "City_Category                 0\n",
       "Stay_In_Current_City_Years    0\n",
       "Marital_Status                0\n",
       "Product_Category_1            0\n",
       "Product_Category_2            0\n",
       "Product_Category_3            0\n",
       "dtype: int64"
      ]
     },
     "execution_count": 42,
     "metadata": {},
     "output_type": "execute_result"
    }
   ],
   "source": [
    "test_data.isnull().sum()"
   ]
  },
  {
   "cell_type": "code",
   "execution_count": 43,
   "metadata": {},
   "outputs": [],
   "source": [
    "data.drop([\"User_ID\", \"Product_ID\"], axis = 1, inplace = True)"
   ]
  },
  {
   "cell_type": "code",
   "execution_count": 44,
   "metadata": {},
   "outputs": [],
   "source": [
    "test_data.drop([\"User_ID\", \"Product_ID\"], axis = 1, inplace = True)"
   ]
  },
  {
   "cell_type": "code",
   "execution_count": 45,
   "metadata": {},
   "outputs": [
    {
     "data": {
      "text/plain": [
       "['Gender', 'Age', 'City_Category', 'Stay_In_Current_City_Years']"
      ]
     },
     "execution_count": 45,
     "metadata": {},
     "output_type": "execute_result"
    }
   ],
   "source": [
    "cols = [x for x in data.columns if data[x].dtype == object]\n",
    "cols"
   ]
  },
  {
   "cell_type": "code",
   "execution_count": 46,
   "metadata": {},
   "outputs": [
    {
     "name": "stdout",
     "output_type": "stream",
     "text": [
      "['F' 'M']\n",
      "['M' 'F']\n",
      "['0-17' '55+' '26-35' '46-50' '51-55' '36-45' '18-25']\n",
      "['46-50' '26-35' '36-45' '18-25' '51-55' '55+' '0-17']\n",
      "['A' 'C' 'B']\n",
      "['B' 'C' 'A']\n",
      "['2' '4+' '3' '1' '0']\n",
      "['2' '0' '4+' '1' '3']\n"
     ]
    }
   ],
   "source": [
    "for col in cols:\n",
    "    print(data[col].unique())\n",
    "    print(test_data[col].unique())"
   ]
  },
  {
   "cell_type": "code",
   "execution_count": 47,
   "metadata": {},
   "outputs": [],
   "source": [
    "data.Product_Category_1 = data.Product_Category_1.astype(object)\n",
    "data.Product_Category_2 = data.Product_Category_2.astype(object)\n",
    "data.Product_Category_3 = data.Product_Category_3.astype(object)\n",
    "test_data.Product_Category_1 = test_data.Product_Category_1.astype(object)\n",
    "test_data.Product_Category_2 = test_data.Product_Category_2.astype(object)\n",
    "test_data.Product_Category_3 = test_data.Product_Category_3.astype(object)"
   ]
  },
  {
   "cell_type": "code",
   "execution_count": 50,
   "metadata": {},
   "outputs": [],
   "source": [
    "for x in ['Occupation','Marital_Status']:\n",
    "    data[x] = data[x].astype(object)"
   ]
  },
  {
   "cell_type": "code",
   "execution_count": 56,
   "metadata": {},
   "outputs": [
    {
     "data": {
      "text/plain": [
       "Gender                        object\n",
       "Age                           object\n",
       "Occupation                    object\n",
       "City_Category                 object\n",
       "Stay_In_Current_City_Years    object\n",
       "Marital_Status                object\n",
       "Product_Category_1            object\n",
       "Product_Category_2            object\n",
       "Product_Category_3            object\n",
       "Purchase                       int64\n",
       "dtype: object"
      ]
     },
     "execution_count": 56,
     "metadata": {},
     "output_type": "execute_result"
    }
   ],
   "source": [
    "data.dtypes"
   ]
  },
  {
   "cell_type": "code",
   "execution_count": 54,
   "metadata": {},
   "outputs": [],
   "source": [
    "for x in test_data.columns:\n",
    "    test_data[x] = test_data[x].astype(object)"
   ]
  },
  {
   "cell_type": "code",
   "execution_count": 55,
   "metadata": {},
   "outputs": [
    {
     "data": {
      "text/plain": [
       "Gender                        object\n",
       "Age                           object\n",
       "Occupation                    object\n",
       "City_Category                 object\n",
       "Stay_In_Current_City_Years    object\n",
       "Marital_Status                object\n",
       "Product_Category_1            object\n",
       "Product_Category_2            object\n",
       "Product_Category_3            object\n",
       "dtype: object"
      ]
     },
     "execution_count": 55,
     "metadata": {},
     "output_type": "execute_result"
    }
   ],
   "source": [
    "test_data.dtypes"
   ]
  },
  {
   "cell_type": "code",
   "execution_count": 57,
   "metadata": {},
   "outputs": [
    {
     "name": "stdout",
     "output_type": "stream",
     "text": [
      "[1, 2, 3, 4, 5, 6, 7, 8, 9, 10, 11, 12, 13, 14, 15, 16, 17, 18, 19, 20]\n",
      "[1, 2, 3, 4, 5, 6, 7, 8, 9, 10, 11, 12, 13, 14, 15, 16, 17, 18]\n"
     ]
    }
   ],
   "source": [
    "print(sorted(data.Product_Category_1.unique()))\n",
    "print(sorted(test_data.Product_Category_1.unique()))"
   ]
  },
  {
   "cell_type": "code",
   "execution_count": 58,
   "metadata": {},
   "outputs": [
    {
     "name": "stdout",
     "output_type": "stream",
     "text": [
      "[0.0, 2.0, 3.0, 4.0, 5.0, 6.0, 7.0, 8.0, 9.0, 10.0, 11.0, 12.0, 13.0, 14.0, 15.0, 16.0, 17.0, 18.0]\n",
      "[0.0, 2.0, 3.0, 4.0, 5.0, 6.0, 7.0, 8.0, 9.0, 10.0, 11.0, 12.0, 13.0, 14.0, 15.0, 16.0, 17.0, 18.0]\n"
     ]
    }
   ],
   "source": [
    "print(sorted(data.Product_Category_2.unique()))\n",
    "print(sorted(test_data.Product_Category_2.unique()))"
   ]
  },
  {
   "cell_type": "code",
   "execution_count": 59,
   "metadata": {},
   "outputs": [
    {
     "name": "stdout",
     "output_type": "stream",
     "text": [
      "[0.0, 3.0, 4.0, 5.0, 6.0, 8.0, 9.0, 10.0, 11.0, 12.0, 13.0, 14.0, 15.0, 16.0, 17.0, 18.0]\n",
      "[0.0, 3.0, 4.0, 5.0, 6.0, 8.0, 9.0, 10.0, 11.0, 12.0, 13.0, 14.0, 15.0, 16.0, 17.0, 18.0]\n"
     ]
    }
   ],
   "source": [
    "print(sorted(data.Product_Category_3.unique()))\n",
    "print(sorted(test_data.Product_Category_3.unique()))"
   ]
  },
  {
   "cell_type": "code",
   "execution_count": 27,
   "metadata": {},
   "outputs": [
    {
     "data": {
      "text/plain": [
       "Index(['Gender', 'Age', 'Occupation', 'City_Category',\n",
       "       'Stay_In_Current_City_Years', 'Marital_Status', 'Product_Category_1',\n",
       "       'Product_Category_2', 'Product_Category_3', 'Purchase'],\n",
       "      dtype='object')"
      ]
     },
     "execution_count": 27,
     "metadata": {},
     "output_type": "execute_result"
    }
   ],
   "source": [
    "data.columns"
   ]
  },
  {
   "cell_type": "code",
   "execution_count": 60,
   "metadata": {},
   "outputs": [],
   "source": [
    "data_mod = pd.get_dummies(data, columns=[x for x in data.columns if x != \"Purchase\"])\n",
    "test_data_mod = pd.get_dummies(test_data, columns=[x for x in test_data.columns])"
   ]
  },
  {
   "cell_type": "code",
   "execution_count": 61,
   "metadata": {},
   "outputs": [
    {
     "name": "stdout",
     "output_type": "stream",
     "text": [
      "['Purchase', 'Product_Category_1_19', 'Product_Category_1_20']\n"
     ]
    }
   ],
   "source": [
    "print([x for x in data_mod.columns if x not in test_data_mod.columns])"
   ]
  },
  {
   "cell_type": "code",
   "execution_count": 62,
   "metadata": {},
   "outputs": [],
   "source": [
    "test_data_mod[\"Product_Category_1_19\"] = 0\n",
    "test_data_mod[\"Product_Category_1_20\"] = 0"
   ]
  },
  {
   "cell_type": "code",
   "execution_count": 63,
   "metadata": {},
   "outputs": [
    {
     "name": "stdout",
     "output_type": "stream",
     "text": [
      "(550068, 95)\n",
      "(233599, 94)\n"
     ]
    }
   ],
   "source": [
    "print(data_mod.shape)\n",
    "print(test_data_mod.shape)"
   ]
  },
  {
   "cell_type": "code",
   "execution_count": 66,
   "metadata": {},
   "outputs": [
    {
     "name": "stdout",
     "output_type": "stream",
     "text": [
      "7011     191\n",
      "7193     188\n",
      "6855     187\n",
      "6891     184\n",
      "6960     183\n",
      "7012     183\n",
      "6879     182\n",
      "7166     182\n",
      "7027     182\n",
      "7165     180\n",
      "6868     180\n",
      "6883     180\n",
      "6858     179\n",
      "7185     178\n",
      "6923     178\n",
      "7089     178\n",
      "6931     178\n",
      "7093     178\n",
      "7114     177\n",
      "7188     177\n",
      "7060     176\n",
      "6908     176\n",
      "7085     176\n",
      "7167     175\n",
      "7159     175\n",
      "6973     175\n",
      "7146     175\n",
      "6928     175\n",
      "6949     175\n",
      "7192     174\n",
      "        ... \n",
      "14650      1\n",
      "15063      1\n",
      "17112      1\n",
      "11151      1\n",
      "3365       1\n",
      "4724       1\n",
      "14296      1\n",
      "10499      1\n",
      "5687       1\n",
      "14593      1\n",
      "23855      1\n",
      "17366      1\n",
      "23863      1\n",
      "10355      1\n",
      "2931       1\n",
      "6708       1\n",
      "349        1\n",
      "3389       1\n",
      "14896      1\n",
      "4868       1\n",
      "14114      1\n",
      "208        1\n",
      "14682      1\n",
      "14138      1\n",
      "10290      1\n",
      "15105      1\n",
      "14384      1\n",
      "10453      1\n",
      "8537       1\n",
      "14640      1\n",
      "Name: Purchase, Length: 18105, dtype: int64\n",
      "0    414259\n",
      "1    135809\n",
      "Name: Gender_F, dtype: int64\n",
      "1    414259\n",
      "0    135809\n",
      "Name: Gender_M, dtype: int64\n",
      "0    534966\n",
      "1     15102\n",
      "Name: Age_0-17, dtype: int64\n",
      "0    450408\n",
      "1     99660\n",
      "Name: Age_18-25, dtype: int64\n",
      "0    330481\n",
      "1    219587\n",
      "Name: Age_26-35, dtype: int64\n",
      "0    440055\n",
      "1    110013\n",
      "Name: Age_36-45, dtype: int64\n",
      "0    504367\n",
      "1     45701\n",
      "Name: Age_46-50, dtype: int64\n",
      "0    511567\n",
      "1     38501\n",
      "Name: Age_51-55, dtype: int64\n",
      "0    528564\n",
      "1     21504\n",
      "Name: Age_55+, dtype: int64\n",
      "0    480430\n",
      "1     69638\n",
      "Name: Occupation_0, dtype: int64\n",
      "0    502642\n",
      "1     47426\n",
      "Name: Occupation_1, dtype: int64\n",
      "0    523480\n",
      "1     26588\n",
      "Name: Occupation_2, dtype: int64\n",
      "0    532418\n",
      "1     17650\n",
      "Name: Occupation_3, dtype: int64\n",
      "0    477760\n",
      "1     72308\n",
      "Name: Occupation_4, dtype: int64\n",
      "0    537891\n",
      "1     12177\n",
      "Name: Occupation_5, dtype: int64\n",
      "0    529713\n",
      "1     20355\n",
      "Name: Occupation_6, dtype: int64\n",
      "0    490935\n",
      "1     59133\n",
      "Name: Occupation_7, dtype: int64\n",
      "0    548522\n",
      "1      1546\n",
      "Name: Occupation_8, dtype: int64\n",
      "0    543777\n",
      "1      6291\n",
      "Name: Occupation_9, dtype: int64\n",
      "0    537138\n",
      "1     12930\n",
      "Name: Occupation_10, dtype: int64\n",
      "0    538482\n",
      "1     11586\n",
      "Name: Occupation_11, dtype: int64\n",
      "0    518889\n",
      "1     31179\n",
      "Name: Occupation_12, dtype: int64\n",
      "0    542340\n",
      "1      7728\n",
      "Name: Occupation_13, dtype: int64\n",
      "0    522759\n",
      "1     27309\n",
      "Name: Occupation_14, dtype: int64\n",
      "0    537903\n",
      "1     12165\n",
      "Name: Occupation_15, dtype: int64\n",
      "0    524697\n",
      "1     25371\n",
      "Name: Occupation_16, dtype: int64\n",
      "0    510025\n",
      "1     40043\n",
      "Name: Occupation_17, dtype: int64\n",
      "0    543446\n",
      "1      6622\n",
      "Name: Occupation_18, dtype: int64\n",
      "0    541607\n",
      "1      8461\n",
      "Name: Occupation_19, dtype: int64\n",
      "0    516506\n",
      "1     33562\n",
      "Name: Occupation_20, dtype: int64\n",
      "0    402348\n",
      "1    147720\n",
      "Name: City_Category_A, dtype: int64\n",
      "0    318895\n",
      "1    231173\n",
      "Name: City_Category_B, dtype: int64\n",
      "0    378893\n",
      "1    171175\n",
      "Name: City_Category_C, dtype: int64\n",
      "0    475670\n",
      "1     74398\n",
      "Name: Stay_In_Current_City_Years_0, dtype: int64\n",
      "0    356247\n",
      "1    193821\n",
      "Name: Stay_In_Current_City_Years_1, dtype: int64\n",
      "0    448230\n",
      "1    101838\n",
      "Name: Stay_In_Current_City_Years_2, dtype: int64\n",
      "0    454783\n",
      "1     95285\n",
      "Name: Stay_In_Current_City_Years_3, dtype: int64\n",
      "0    465342\n",
      "1     84726\n",
      "Name: Stay_In_Current_City_Years_4+, dtype: int64\n",
      "1    324731\n",
      "0    225337\n",
      "Name: Marital_Status_0, dtype: int64\n",
      "0    324731\n",
      "1    225337\n",
      "Name: Marital_Status_1, dtype: int64\n",
      "0    409690\n",
      "1    140378\n",
      "Name: Product_Category_1_1, dtype: int64\n",
      "0    526204\n",
      "1     23864\n",
      "Name: Product_Category_1_2, dtype: int64\n",
      "0    529855\n",
      "1     20213\n",
      "Name: Product_Category_1_3, dtype: int64\n",
      "0    538315\n",
      "1     11753\n",
      "Name: Product_Category_1_4, dtype: int64\n",
      "0    399135\n",
      "1    150933\n",
      "Name: Product_Category_1_5, dtype: int64\n",
      "0    529602\n",
      "1     20466\n",
      "Name: Product_Category_1_6, dtype: int64\n",
      "0    546347\n",
      "1      3721\n",
      "Name: Product_Category_1_7, dtype: int64\n",
      "0    436143\n",
      "1    113925\n",
      "Name: Product_Category_1_8, dtype: int64\n",
      "0    549658\n",
      "1       410\n",
      "Name: Product_Category_1_9, dtype: int64\n",
      "0    544943\n",
      "1      5125\n",
      "Name: Product_Category_1_10, dtype: int64\n",
      "0    525781\n",
      "1     24287\n",
      "Name: Product_Category_1_11, dtype: int64\n",
      "0    546121\n",
      "1      3947\n",
      "Name: Product_Category_1_12, dtype: int64\n",
      "0    544519\n",
      "1      5549\n",
      "Name: Product_Category_1_13, dtype: int64\n",
      "0    548545\n",
      "1      1523\n",
      "Name: Product_Category_1_14, dtype: int64\n",
      "0    543778\n",
      "1      6290\n",
      "Name: Product_Category_1_15, dtype: int64\n",
      "0    540240\n",
      "1      9828\n",
      "Name: Product_Category_1_16, dtype: int64\n",
      "0    549490\n",
      "1       578\n",
      "Name: Product_Category_1_17, dtype: int64\n",
      "0    546943\n",
      "1      3125\n",
      "Name: Product_Category_1_18, dtype: int64\n",
      "0    548465\n",
      "1      1603\n",
      "Name: Product_Category_1_19, dtype: int64\n",
      "0    547518\n",
      "1      2550\n",
      "Name: Product_Category_1_20, dtype: int64\n",
      "0    376430\n",
      "1    173638\n",
      "Name: Product_Category_2_0.0, dtype: int64\n",
      "0    500851\n",
      "1     49217\n",
      "Name: Product_Category_2_2.0, dtype: int64\n",
      "0    547184\n",
      "1      2884\n",
      "Name: Product_Category_2_3.0, dtype: int64\n",
      "0    524391\n",
      "1     25677\n",
      "Name: Product_Category_2_4.0, dtype: int64\n",
      "0    523833\n",
      "1     26235\n",
      "Name: Product_Category_2_5.0, dtype: int64\n",
      "0    533602\n",
      "1     16466\n",
      "Name: Product_Category_2_6.0, dtype: int64\n",
      "0    549442\n",
      "1       626\n",
      "Name: Product_Category_2_7.0, dtype: int64\n",
      "0    485980\n",
      "1     64088\n",
      "Name: Product_Category_2_8.0, dtype: int64\n",
      "0    544375\n",
      "1      5693\n",
      "Name: Product_Category_2_9.0, dtype: int64\n",
      "0    547025\n",
      "1      3043\n",
      "Name: Product_Category_2_10.0, dtype: int64\n",
      "0    535934\n",
      "1     14134\n",
      "Name: Product_Category_2_11.0, dtype: int64\n",
      "0    544540\n",
      "1      5528\n",
      "Name: Product_Category_2_12.0, dtype: int64\n",
      "0    539537\n",
      "1     10531\n",
      "Name: Product_Category_2_13.0, dtype: int64\n",
      "0    494960\n",
      "1     55108\n",
      "Name: Product_Category_2_14.0, dtype: int64\n",
      "0    512213\n",
      "1     37855\n",
      "Name: Product_Category_2_15.0, dtype: int64\n",
      "0    506813\n",
      "1     43255\n",
      "Name: Product_Category_2_16.0, dtype: int64\n",
      "0    536748\n",
      "1     13320\n",
      "Name: Product_Category_2_17.0, dtype: int64\n",
      "0    547298\n",
      "1      2770\n",
      "Name: Product_Category_2_18.0, dtype: int64\n",
      "1    383247\n",
      "0    166821\n",
      "Name: Product_Category_3_0.0, dtype: int64\n",
      "0    549455\n",
      "1       613\n",
      "Name: Product_Category_3_3.0, dtype: int64\n",
      "0    548193\n",
      "1      1875\n",
      "Name: Product_Category_3_4.0, dtype: int64\n",
      "0    533410\n",
      "1     16658\n",
      "Name: Product_Category_3_5.0, dtype: int64\n",
      "0    545178\n",
      "1      4890\n",
      "Name: Product_Category_3_6.0, dtype: int64\n",
      "0    537506\n",
      "1     12562\n",
      "Name: Product_Category_3_8.0, dtype: int64\n",
      "0    538489\n",
      "1     11579\n",
      "Name: Product_Category_3_9.0, dtype: int64\n",
      "0    548342\n",
      "1      1726\n",
      "Name: Product_Category_3_10.0, dtype: int64\n",
      "0    548263\n",
      "1      1805\n",
      "Name: Product_Category_3_11.0, dtype: int64\n",
      "0    540822\n",
      "1      9246\n",
      "Name: Product_Category_3_12.0, dtype: int64\n",
      "0    544609\n",
      "1      5459\n",
      "Name: Product_Category_3_13.0, dtype: int64\n",
      "0    531640\n",
      "1     18428\n",
      "Name: Product_Category_3_14.0, dtype: int64\n",
      "0    522055\n",
      "1     28013\n",
      "Name: Product_Category_3_15.0, dtype: int64\n",
      "0    517432\n",
      "1     32636\n",
      "Name: Product_Category_3_16.0, dtype: int64\n",
      "0    533366\n",
      "1     16702\n",
      "Name: Product_Category_3_17.0, dtype: int64\n",
      "0    545439\n",
      "1      4629\n",
      "Name: Product_Category_3_18.0, dtype: int64\n"
     ]
    }
   ],
   "source": [
    "for col in data_mod.columns:\n",
    "    print(data_mod[col].value_counts())"
   ]
  },
  {
   "cell_type": "code",
   "execution_count": 65,
   "metadata": {},
   "outputs": [
    {
     "data": {
      "text/html": [
       "<div>\n",
       "<style scoped>\n",
       "    .dataframe tbody tr th:only-of-type {\n",
       "        vertical-align: middle;\n",
       "    }\n",
       "\n",
       "    .dataframe tbody tr th {\n",
       "        vertical-align: top;\n",
       "    }\n",
       "\n",
       "    .dataframe thead th {\n",
       "        text-align: right;\n",
       "    }\n",
       "</style>\n",
       "<table border=\"1\" class=\"dataframe\">\n",
       "  <thead>\n",
       "    <tr style=\"text-align: right;\">\n",
       "      <th></th>\n",
       "      <th>Purchase</th>\n",
       "      <th>Gender_F</th>\n",
       "      <th>Gender_M</th>\n",
       "      <th>Age_0-17</th>\n",
       "      <th>Age_18-25</th>\n",
       "      <th>Age_26-35</th>\n",
       "      <th>Age_36-45</th>\n",
       "      <th>Age_46-50</th>\n",
       "      <th>Age_51-55</th>\n",
       "      <th>Age_55+</th>\n",
       "      <th>...</th>\n",
       "      <th>Product_Category_3_9.0</th>\n",
       "      <th>Product_Category_3_10.0</th>\n",
       "      <th>Product_Category_3_11.0</th>\n",
       "      <th>Product_Category_3_12.0</th>\n",
       "      <th>Product_Category_3_13.0</th>\n",
       "      <th>Product_Category_3_14.0</th>\n",
       "      <th>Product_Category_3_15.0</th>\n",
       "      <th>Product_Category_3_16.0</th>\n",
       "      <th>Product_Category_3_17.0</th>\n",
       "      <th>Product_Category_3_18.0</th>\n",
       "    </tr>\n",
       "  </thead>\n",
       "  <tbody>\n",
       "    <tr>\n",
       "      <th>0</th>\n",
       "      <td>8370</td>\n",
       "      <td>1</td>\n",
       "      <td>0</td>\n",
       "      <td>1</td>\n",
       "      <td>0</td>\n",
       "      <td>0</td>\n",
       "      <td>0</td>\n",
       "      <td>0</td>\n",
       "      <td>0</td>\n",
       "      <td>0</td>\n",
       "      <td>...</td>\n",
       "      <td>0</td>\n",
       "      <td>0</td>\n",
       "      <td>0</td>\n",
       "      <td>0</td>\n",
       "      <td>0</td>\n",
       "      <td>0</td>\n",
       "      <td>0</td>\n",
       "      <td>0</td>\n",
       "      <td>0</td>\n",
       "      <td>0</td>\n",
       "    </tr>\n",
       "    <tr>\n",
       "      <th>1</th>\n",
       "      <td>15200</td>\n",
       "      <td>1</td>\n",
       "      <td>0</td>\n",
       "      <td>1</td>\n",
       "      <td>0</td>\n",
       "      <td>0</td>\n",
       "      <td>0</td>\n",
       "      <td>0</td>\n",
       "      <td>0</td>\n",
       "      <td>0</td>\n",
       "      <td>...</td>\n",
       "      <td>0</td>\n",
       "      <td>0</td>\n",
       "      <td>0</td>\n",
       "      <td>0</td>\n",
       "      <td>0</td>\n",
       "      <td>1</td>\n",
       "      <td>0</td>\n",
       "      <td>0</td>\n",
       "      <td>0</td>\n",
       "      <td>0</td>\n",
       "    </tr>\n",
       "    <tr>\n",
       "      <th>2</th>\n",
       "      <td>1422</td>\n",
       "      <td>1</td>\n",
       "      <td>0</td>\n",
       "      <td>1</td>\n",
       "      <td>0</td>\n",
       "      <td>0</td>\n",
       "      <td>0</td>\n",
       "      <td>0</td>\n",
       "      <td>0</td>\n",
       "      <td>0</td>\n",
       "      <td>...</td>\n",
       "      <td>0</td>\n",
       "      <td>0</td>\n",
       "      <td>0</td>\n",
       "      <td>0</td>\n",
       "      <td>0</td>\n",
       "      <td>0</td>\n",
       "      <td>0</td>\n",
       "      <td>0</td>\n",
       "      <td>0</td>\n",
       "      <td>0</td>\n",
       "    </tr>\n",
       "    <tr>\n",
       "      <th>3</th>\n",
       "      <td>1057</td>\n",
       "      <td>1</td>\n",
       "      <td>0</td>\n",
       "      <td>1</td>\n",
       "      <td>0</td>\n",
       "      <td>0</td>\n",
       "      <td>0</td>\n",
       "      <td>0</td>\n",
       "      <td>0</td>\n",
       "      <td>0</td>\n",
       "      <td>...</td>\n",
       "      <td>0</td>\n",
       "      <td>0</td>\n",
       "      <td>0</td>\n",
       "      <td>0</td>\n",
       "      <td>0</td>\n",
       "      <td>0</td>\n",
       "      <td>0</td>\n",
       "      <td>0</td>\n",
       "      <td>0</td>\n",
       "      <td>0</td>\n",
       "    </tr>\n",
       "    <tr>\n",
       "      <th>4</th>\n",
       "      <td>7969</td>\n",
       "      <td>0</td>\n",
       "      <td>1</td>\n",
       "      <td>0</td>\n",
       "      <td>0</td>\n",
       "      <td>0</td>\n",
       "      <td>0</td>\n",
       "      <td>0</td>\n",
       "      <td>0</td>\n",
       "      <td>1</td>\n",
       "      <td>...</td>\n",
       "      <td>0</td>\n",
       "      <td>0</td>\n",
       "      <td>0</td>\n",
       "      <td>0</td>\n",
       "      <td>0</td>\n",
       "      <td>0</td>\n",
       "      <td>0</td>\n",
       "      <td>0</td>\n",
       "      <td>0</td>\n",
       "      <td>0</td>\n",
       "    </tr>\n",
       "  </tbody>\n",
       "</table>\n",
       "<p>5 rows × 95 columns</p>\n",
       "</div>"
      ],
      "text/plain": [
       "   Purchase  Gender_F  Gender_M  Age_0-17  Age_18-25  Age_26-35  Age_36-45  \\\n",
       "0      8370         1         0         1          0          0          0   \n",
       "1     15200         1         0         1          0          0          0   \n",
       "2      1422         1         0         1          0          0          0   \n",
       "3      1057         1         0         1          0          0          0   \n",
       "4      7969         0         1         0          0          0          0   \n",
       "\n",
       "   Age_46-50  Age_51-55  Age_55+           ...             \\\n",
       "0          0          0        0           ...              \n",
       "1          0          0        0           ...              \n",
       "2          0          0        0           ...              \n",
       "3          0          0        0           ...              \n",
       "4          0          0        1           ...              \n",
       "\n",
       "   Product_Category_3_9.0  Product_Category_3_10.0  Product_Category_3_11.0  \\\n",
       "0                       0                        0                        0   \n",
       "1                       0                        0                        0   \n",
       "2                       0                        0                        0   \n",
       "3                       0                        0                        0   \n",
       "4                       0                        0                        0   \n",
       "\n",
       "   Product_Category_3_12.0  Product_Category_3_13.0  Product_Category_3_14.0  \\\n",
       "0                        0                        0                        0   \n",
       "1                        0                        0                        1   \n",
       "2                        0                        0                        0   \n",
       "3                        0                        0                        0   \n",
       "4                        0                        0                        0   \n",
       "\n",
       "   Product_Category_3_15.0  Product_Category_3_16.0  Product_Category_3_17.0  \\\n",
       "0                        0                        0                        0   \n",
       "1                        0                        0                        0   \n",
       "2                        0                        0                        0   \n",
       "3                        0                        0                        0   \n",
       "4                        0                        0                        0   \n",
       "\n",
       "   Product_Category_3_18.0  \n",
       "0                        0  \n",
       "1                        0  \n",
       "2                        0  \n",
       "3                        0  \n",
       "4                        0  \n",
       "\n",
       "[5 rows x 95 columns]"
      ]
     },
     "execution_count": 65,
     "metadata": {},
     "output_type": "execute_result"
    }
   ],
   "source": [
    "data_mod.head()"
   ]
  },
  {
   "cell_type": "code",
   "execution_count": 36,
   "metadata": {},
   "outputs": [],
   "source": [
    "data_ct = data_mod.copy()"
   ]
  },
  {
   "cell_type": "code",
   "execution_count": 37,
   "metadata": {},
   "outputs": [
    {
     "data": {
      "text/plain": [
       "(550068, 95)"
      ]
     },
     "execution_count": 37,
     "metadata": {},
     "output_type": "execute_result"
    }
   ],
   "source": [
    "data_ct.shape"
   ]
  },
  {
   "cell_type": "code",
   "execution_count": 67,
   "metadata": {},
   "outputs": [
    {
     "data": {
      "text/plain": [
       "(412551, 94)"
      ]
     },
     "execution_count": 67,
     "metadata": {},
     "output_type": "execute_result"
    }
   ],
   "source": [
    "from sklearn.model_selection import train_test_split\n",
    "\n",
    "x = data_mod.drop(\"Purchase\", axis = 1)\n",
    "y = data_mod.Purchase\n",
    "\n",
    "x_train, x_test, y_train, y_test = train_test_split(x,y, test_size = 0.25, random_state = 101)\n",
    "x_train.shape"
   ]
  },
  {
   "cell_type": "code",
   "execution_count": 68,
   "metadata": {},
   "outputs": [],
   "source": [
    "from sklearn.linear_model import LinearRegression\n",
    "\n",
    "lr = LinearRegression().fit(x_train, y_train)\n",
    "pred_train = lr.predict(x_train)\n",
    "pred_test = lr.predict(x_test)"
   ]
  },
  {
   "cell_type": "code",
   "execution_count": 69,
   "metadata": {},
   "outputs": [
    {
     "name": "stdout",
     "output_type": "stream",
     "text": [
      "0.6483837507918064\n",
      "0.6462915983704517\n",
      "8914162.302166278\n",
      "8875029.562568022\n"
     ]
    }
   ],
   "source": [
    "from sklearn.metrics import mean_squared_error\n",
    "\n",
    "print(lr.score(x_train, y_train))\n",
    "print(lr.score(x_test, y_test))\n",
    "\n",
    "print(mean_squared_error(pred_test,y_test))\n",
    "print(mean_squared_error(pred_train,y_train))"
   ]
  },
  {
   "cell_type": "code",
   "execution_count": 38,
   "metadata": {},
   "outputs": [
    {
     "data": {
      "text/plain": [
       "<matplotlib.collections.PathCollection at 0x1a2114ad68>"
      ]
     },
     "execution_count": 38,
     "metadata": {},
     "output_type": "execute_result"
    },
    {
     "data": {
      "image/png": "[encoded data removed]",
      "text/plain": [
       "<Figure size 432x288 with 2 Axes>"
      ]
     },
     "metadata": {
      "needs_background": "light"
     },
     "output_type": "display_data"
    }
   ],
   "source": [
    "#Residual plot\n",
    "\n",
    "fig , axes = plt.subplots(1,2)\n",
    "\n",
    "#plt.scatter(y_test, pred_test-y_test)\n",
    "\n",
    "axes[0].scatter(y_test, pred_test-y_test)\n",
    "axes[1].scatter(y_train, pred_train-y_train)"
   ]
  },
  {
   "cell_type": "code",
   "execution_count": 70,
   "metadata": {},
   "outputs": [],
   "source": [
    "#perform xgboost\n",
    "import xgboost as xgb"
   ]
  },
  {
   "cell_type": "code",
   "execution_count": 91,
   "metadata": {},
   "outputs": [],
   "source": [
    "xgb_m = xgb.XGBRegressor(objective ='reg:squarederror', \n",
    "                         colsample_bytree = 0.3, \n",
    "                         learning_rate = 0.1, \n",
    "                         max_depth = 5, \n",
    "                         n_estimators = 100)\n",
    "\n",
    "# base_score=0.1,\n",
    "# gamma= 2,\n",
    "# learning_rate= 0.1,\n",
    "# max_depth= 5,\n",
    "# min_child_weight= 5,\n",
    "# n_estimators= 100,\n",
    "# subsample= 0.9,\n",
    "# objective = 'reg:squarederror',\n",
    "# n_jobs = -1\n",
    "\n"
   ]
  },
  {
   "cell_type": "code",
   "execution_count": 92,
   "metadata": {},
   "outputs": [
    {
     "data": {
      "text/plain": [
       "XGBRegressor(base_score=0.5, booster='gbtree', colsample_bylevel=1,\n",
       "       colsample_bynode=1, colsample_bytree=0.3, gamma=0,\n",
       "       importance_type='gain', learning_rate=0.1, max_delta_step=0,\n",
       "       max_depth=5, min_child_weight=1, missing=None, n_estimators=100,\n",
       "       n_jobs=1, nthread=None, objective='reg:squarederror',\n",
       "       random_state=0, reg_alpha=0, reg_lambda=1, scale_pos_weight=1,\n",
       "       seed=None, silent=None, subsample=1, verbosity=1)"
      ]
     },
     "execution_count": 92,
     "metadata": {},
     "output_type": "execute_result"
    }
   ],
   "source": [
    "xgb_m.fit(x_train, y_train)"
   ]
  },
  {
   "cell_type": "code",
   "execution_count": 93,
   "metadata": {},
   "outputs": [
    {
     "name": "stdout",
     "output_type": "stream",
     "text": [
      "8836658.32270919\n",
      "8769943.859244293\n",
      "0.6493669079468809\n",
      "0.6525470992728005\n"
     ]
    }
   ],
   "source": [
    "from sklearn.metrics import mean_squared_error\n",
    "print(mean_squared_error(y_test, xgb_m.predict(x_test)))\n",
    "print(mean_squared_error(y_train, xgb_m.predict(x_train)))\n",
    "print(xgb_m.score(x_test, y_test))\n",
    "print(xgb_m.score(x_train, y_train))"
   ]
  },
  {
   "cell_type": "code",
   "execution_count": 46,
   "metadata": {},
   "outputs": [
    {
     "name": "stdout",
     "output_type": "stream",
     "text": [
      "18278159.421336215\n",
      "18314970.636508755\n",
      "0.2744908573611554\n",
      "0.2745713364361445\n"
     ]
    }
   ],
   "source": [
    "from sklearn.ensemble import GradientBoostingRegressor\n",
    "\n",
    "gbr = GradientBoostingRegressor(n_estimators= 1000, subsample=0.8, max_features= 10 , random_state=50, learning_rate=0.001)\n",
    "gbr.fit(x_train, y_train)\n",
    "\n",
    "\n",
    "print(mean_squared_error(y_test, gbr.predict(x_test)))\n",
    "print(mean_squared_error(y_train, gbr.predict(x_train)))\n",
    "print(gbr.score(x_test, y_test))\n",
    "print(gbr.score(x_train, y_train))"
   ]
  },
  {
   "cell_type": "code",
   "execution_count": 91,
   "metadata": {},
   "outputs": [
    {
     "name": "stdout",
     "output_type": "stream",
     "text": [
      "10868537.196515787\n",
      "10817309.90886189\n",
      "0.5685986251997515\n",
      "0.5715424924078621\n"
     ]
    }
   ],
   "source": [
    "#Random Forest\n",
    "\n",
    "from sklearn.model_selection import train_test_split\n",
    "\n",
    "x = data_ct.drop(\"Purchase\", axis = 1)\n",
    "y = data_ct.Purchase\n",
    "\n",
    "x_train, x_test, y_train, y_test = train_test_split(x,y, test_size = 0.3, random_state = 101)\n",
    "x_train.shape\n",
    "\n",
    "from sklearn.ensemble import RandomForestRegressor\n",
    "\n",
    "rf  = RandomForestRegressor(n_estimators= 1000, max_depth=10, max_features=10)\n",
    "rf.fit(x_train, y_train)\n",
    "\n",
    "print(mean_squared_error(y_test, rf.predict(x_test)))\n",
    "print(mean_squared_error(y_train, rf.predict(x_train)))\n",
    "print(rf.score(x_test, y_test))\n",
    "print(rf.score(x_train, y_train))"
   ]
  },
  {
   "cell_type": "code",
   "execution_count": null,
   "metadata": {},
   "outputs": [],
   "source": [
    "#SVM\n",
    "\n",
    "from sklearn.svm import SVR\n",
    "\n",
    "# from sklearn.model_selection import train_test_split\n",
    "\n",
    "# x = data_ct.drop(\"Purchase\", axis = 1)\n",
    "# y = data_ct.Purchase\n",
    "\n",
    "# x_train, x_test, y_train, y_test = train_test_split(x,y, test_size = 0.3, random_state = 101)\n",
    "\n",
    "sv = SVR(kernel='rbf').fit(x_train, y_train)\n",
    "\n",
    "print(mean_squared_error(y_test, sv.predict(x_test)))\n",
    "print(mean_squared_error(y_train, sv.predict(x_train)))\n",
    "print(sv.score(x_test, y_test))\n",
    "print(sv.score(x_train, y_train))"
   ]
  },
  {
   "cell_type": "code",
   "execution_count": 73,
   "metadata": {},
   "outputs": [],
   "source": [
    "#Decision Tree\n",
    "\n",
    "from sklearn.tree import DecisionTreeRegressor\n",
    "\n",
    "dt = DecisionTreeRegressor().fit(x_train,y_train)\n",
    "\n",
    "print(mean_squared_error(y_test, sv.predict(x_test)))\n",
    "print(mean_squared_error(y_train, sv.predict(x_train)))\n",
    "print(sv.score(x_test, y_test))\n",
    "print(sv.score(x_train, y_train))\n"
   ]
  },
  {
   "cell_type": "code",
   "execution_count": null,
   "metadata": {},
   "outputs": [],
   "source": []
  }
 ],
 "metadata": {
  "kernelspec": {
   "display_name": "Python 3",
   "language": "python",
   "name": "python3"
  },
  "language_info": {
   "codemirror_mode": {
    "name": "ipython",
    "version": 3
   },
   "file_extension": ".py",
   "mimetype": "text/x-python",
   "name": "python",
   "nbconvert_exporter": "python",
   "pygments_lexer": "ipython3",
   "version": "3.7.1"
  }
 },
 "nbformat": 4,
 "nbformat_minor": 2
}
