{
 "cells": [
  {
   "cell_type": "code",
   "execution_count": 1,
   "metadata": {},
   "outputs": [],
   "source": [
    "import numpy as np\n",
    "import pandas as pd\n",
    "import matplotlib.pyplot as plt\n",
    "import seaborn as sns\n",
    "%matplotlib inline\n",
    "import socket"
   ]
  },
  {
   "cell_type": "code",
   "execution_count": 2,
   "metadata": {},
   "outputs": [],
   "source": [
    "df=pd.read_excel(\"Final_Train.xlsx\")"
   ]
  },
  {
   "cell_type": "code",
   "execution_count": 3,
   "metadata": {},
   "outputs": [
    {
     "data": {
      "text/plain": [
       "<matplotlib.axes._subplots.AxesSubplot at 0x1a1c9bf828>"
      ]
     },
     "execution_count": 3,
     "metadata": {},
     "output_type": "execute_result"
    },
    {
     "data": {
      "image/png": "[encoded data removed]",
      "text/plain": [
       "<Figure size 432x288 with 1 Axes>"
      ]
     },
     "metadata": {
      "needs_background": "light"
     },
     "output_type": "display_data"
    }
   ],
   "source": [
    "df['Fees'].hist(bins=5)"
   ]
  },
  {
   "cell_type": "code",
   "execution_count": 4,
   "metadata": {},
   "outputs": [
    {
     "data": {
      "text/html": [
       "<div>\n",
       "<style scoped>\n",
       "    .dataframe tbody tr th:only-of-type {\n",
       "        vertical-align: middle;\n",
       "    }\n",
       "\n",
       "    .dataframe tbody tr th {\n",
       "        vertical-align: top;\n",
       "    }\n",
       "\n",
       "    .dataframe thead th {\n",
       "        text-align: right;\n",
       "    }\n",
       "</style>\n",
       "<table border=\"1\" class=\"dataframe\">\n",
       "  <thead>\n",
       "    <tr style=\"text-align: right;\">\n",
       "      <th></th>\n",
       "      <th>Qualification</th>\n",
       "      <th>Experience</th>\n",
       "      <th>Rating</th>\n",
       "      <th>Place</th>\n",
       "      <th>Profile</th>\n",
       "      <th>Miscellaneous_Info</th>\n",
       "      <th>Fees</th>\n",
       "    </tr>\n",
       "  </thead>\n",
       "  <tbody>\n",
       "    <tr>\n",
       "      <th>0</th>\n",
       "      <td>BHMS, MD - Homeopathy</td>\n",
       "      <td>24 years experience</td>\n",
       "      <td>100%</td>\n",
       "      <td>Kakkanad, Ernakulam</td>\n",
       "      <td>Homeopath</td>\n",
       "      <td>100% 16 Feedback Kakkanad, Ernakulam</td>\n",
       "      <td>100</td>\n",
       "    </tr>\n",
       "    <tr>\n",
       "      <th>1</th>\n",
       "      <td>BAMS, MD - Ayurveda Medicine</td>\n",
       "      <td>12 years experience</td>\n",
       "      <td>98%</td>\n",
       "      <td>Whitefield, Bangalore</td>\n",
       "      <td>Ayurveda</td>\n",
       "      <td>98% 76 Feedback Whitefield, Bangalore</td>\n",
       "      <td>350</td>\n",
       "    </tr>\n",
       "    <tr>\n",
       "      <th>2</th>\n",
       "      <td>MBBS, MS - Otorhinolaryngology</td>\n",
       "      <td>9 years experience</td>\n",
       "      <td>NaN</td>\n",
       "      <td>Mathikere - BEL, Bangalore</td>\n",
       "      <td>ENT Specialist</td>\n",
       "      <td>NaN</td>\n",
       "      <td>300</td>\n",
       "    </tr>\n",
       "    <tr>\n",
       "      <th>3</th>\n",
       "      <td>BSc - Zoology, BAMS</td>\n",
       "      <td>12 years experience</td>\n",
       "      <td>NaN</td>\n",
       "      <td>Bannerghatta Road, Bangalore</td>\n",
       "      <td>Ayurveda</td>\n",
       "      <td>Bannerghatta Road, Bangalore ₹250 Available on...</td>\n",
       "      <td>250</td>\n",
       "    </tr>\n",
       "    <tr>\n",
       "      <th>4</th>\n",
       "      <td>BAMS</td>\n",
       "      <td>20 years experience</td>\n",
       "      <td>100%</td>\n",
       "      <td>Keelkattalai, Chennai</td>\n",
       "      <td>Ayurveda</td>\n",
       "      <td>100% 4 Feedback Keelkattalai, Chennai</td>\n",
       "      <td>250</td>\n",
       "    </tr>\n",
       "  </tbody>\n",
       "</table>\n",
       "</div>"
      ],
      "text/plain": [
       "                    Qualification           Experience Rating  \\\n",
       "0           BHMS, MD - Homeopathy  24 years experience   100%   \n",
       "1    BAMS, MD - Ayurveda Medicine  12 years experience    98%   \n",
       "2  MBBS, MS - Otorhinolaryngology   9 years experience    NaN   \n",
       "3             BSc - Zoology, BAMS  12 years experience    NaN   \n",
       "4                            BAMS  20 years experience   100%   \n",
       "\n",
       "                          Place         Profile  \\\n",
       "0           Kakkanad, Ernakulam       Homeopath   \n",
       "1         Whitefield, Bangalore        Ayurveda   \n",
       "2    Mathikere - BEL, Bangalore  ENT Specialist   \n",
       "3  Bannerghatta Road, Bangalore        Ayurveda   \n",
       "4         Keelkattalai, Chennai        Ayurveda   \n",
       "\n",
       "                                  Miscellaneous_Info  Fees  \n",
       "0               100% 16 Feedback Kakkanad, Ernakulam   100  \n",
       "1              98% 76 Feedback Whitefield, Bangalore   350  \n",
       "2                                                NaN   300  \n",
       "3  Bannerghatta Road, Bangalore ₹250 Available on...   250  \n",
       "4              100% 4 Feedback Keelkattalai, Chennai   250  "
      ]
     },
     "execution_count": 4,
     "metadata": {},
     "output_type": "execute_result"
    }
   ],
   "source": [
    "df.head()"
   ]
  },
  {
   "cell_type": "code",
   "execution_count": 11,
   "metadata": {},
   "outputs": [
    {
     "data": {
      "text/plain": [
       "Acrylic Partial Denture Crowns and Bridges Fixing Artificial Teeth                                  40\n",
       "Tooth Extraction Dental Fillings Scaling / Polishing                                                12\n",
       "Dental Fillings Zirconia Crowns Dental Implant Fixing                                               12\n",
       "Skin Disease Treatment Kidney Stone Treatment Gall Bladder (Biliary) Stone Treatment                 9\n",
       "Skin Allergy Treatment Skin Allergies Dermabrasion                                                   9\n",
       "Cosmetic/ Aesthetic Dentistry Crowns and Bridges Fixing Complete/Partial Dentures Fixing             8\n",
       "Dermabrasion Laser Resurfacing Acne / Pimples Treatment                                              8\n",
       "Acrylic Partial Denture Artificial Teeth BPS Dentures Fixing                                         7\n",
       "Skin Care Bacterial Skin Infection Treatment skin checks                                             7\n",
       "Laser Resurfacing Scar Treatment Wart Removal                                                        7\n",
       "Crowns and Bridges Fixing Impaction / Impacted Tooth Extraction Conservative Dentistry               7\n",
       "Acne / Pimples Treatment Scar Treatment Wart Removal                                                 7\n",
       "Acrylic Partial Denture Artificial Teeth Impaction / Impacted Tooth Extraction                       6\n",
       "Dental Fillings Dental Implant Fixing General Dentistry                                              6\n",
       "Balance Exercises Acne / Pimples Treatment Insulin Treatment                                         6\n",
       "Crowns and Bridges Fixing Artificial Teeth Impaction / Impacted Tooth Extraction                     6\n",
       "Ceramic Veneers / Crowns Tooth Extraction Dental Fillings                                            6\n",
       "Health Checkup (General) Infectious Disease Treatment Viral Fever Treatment                          5\n",
       "Crowns and Bridges Fixing Cast Partial Denture Cosmetic/ Aesthetic Dentistry                         5\n",
       "Manapakkam, Chennai ₹600 Visits Today                                                                5\n",
       "Orthodontics General Dentistry RCT - Single Sitting                                                  5\n",
       "Dermabrasion Acne / Pimples Treatment Laser Resurfacing                                              5\n",
       "Laser Hair Removal Treatment Acne / Pimples Treatment Hair Breakage                                  5\n",
       "Reconstructive Middle Ear Surgery Congenital Ear Problem Treatment Microsurgery of the Larynx        5\n",
       "Hearing Deficiency Assessment Congenital Ear Problem Treatment Tonsillitis Treatment                 4\n",
       "Cosmetic/ Aesthetic Dentistry Crowns and Bridges Fixing Tooth Extraction                             4\n",
       "Facial Fracture Treatment Maxilla Fracture Treatment Mandibular Fracture Treatment                   4\n",
       "Wrinkle Treatment Allergy Treatment Viral Fever Treatment                                            4\n",
       "Crowns and Bridges Fixing Conservative Dentistry Cosmetic/ Aesthetic Dentistry                       4\n",
       "Impaction / Impacted Tooth Extraction Cosmetic/ Aesthetic Dentistry Crowns and Bridges Fixing        4\n",
       "                                                                                                    ..\n",
       "Insulin Treatment Diabetes Management Thyroid Disorder Treatment                                     1\n",
       "Regular Skin Care Hair Loss Treatment Hair Transplant Surgery                                        1\n",
       "79% 27 Feedback Gachibowli, Hyderabad                                                                1\n",
       "Obesity Treatment Hair Loss Treatment Skin Disease Treatment                                         1\n",
       "94% 19 Feedback Matunga, Mumbai                                                                      1\n",
       "Borivali East, Mumbai ₹475₹5005% OFF* Available Today                                                1\n",
       "Fever COLD Breathlessness                                                                            1\n",
       "Viral Fever Treatment Fever Treatment Dengue Fever Treatment                                         1\n",
       "76% 7 Feedback BTM Layout 2nd Stage, Bangalore                                                       1\n",
       "2 Feedback Bhandup West, Mumbai ₹1,000                                                               1\n",
       "97% 40 Feedback Dwarka, Delhi                                                                        1\n",
       "Punjabi Bagh, Delhi ₹250 Visits Today                                                                1\n",
       "83% 11 Feedback Pitampura, Delhi                                                                     1\n",
       "96% 3 Feedback Dahisar East, Mumbai                                                                  1\n",
       "Sinusitis Rhinoplasty Functional Endoscopic Sinus Surgery - FESS                                     1\n",
       "94% 1 Feedback Tambaram East, Chennai                                                                1\n",
       "Cosmetic/ Aesthetic Dentistry Smile Design Crowns and Bridges Fixing                                 1\n",
       "Diet Counseling Skin Disease Treatment Weight Loss Diet Counseling                                   1\n",
       "Banjara Hills, Hyderabad ₹250 Available Today                                                        1\n",
       "97% 68 Feedback Gandhipuram, Coimbatore                                                              1\n",
       "60% 5 Feedback Dilshad Garden, Delhi                                                                 1\n",
       "98% 45 Feedback Rajarajeshwarinagar, Bangalore                                                       1\n",
       "PCOD/PCOS Treatment Sinusitis, Allergy, Bronchitis & Asthma Acidity, GERD, IBS, Piles & Fissures     1\n",
       "Balance Exercises Chickenpox Treatment Neck Pain Treatment                                           1\n",
       "Dental Crowns Crowns and Bridges Fixing Ceramic Crowns and Bridges Fixing                            1\n",
       "Dental Checkup (General) Gum Disease Treatment/ Surgery Preparation for Dentures                     1\n",
       "97% 99 Feedback Dwarka, Delhi                                                                        1\n",
       "96% 19 Feedback Bannerghatta Road, Bangalore                                                         1\n",
       "Trichology Skin Allergies Microdermabrasion                                                          1\n",
       "83% 14 Feedback KR Puram, Bangalore                                                                  1\n",
       "Name: Miscellaneous_Info, Length: 2998, dtype: int64"
      ]
     },
     "execution_count": 11,
     "metadata": {},
     "output_type": "execute_result"
    }
   ],
   "source": [
    "df.Miscellaneous_Info.value_counts()"
   ]
  },
  {
   "cell_type": "code",
   "execution_count": 5,
   "metadata": {},
   "outputs": [],
   "source": [
    "df['years_exp'] = df['Experience'].str.slice(stop=2).astype(int)"
   ]
  },
  {
   "cell_type": "code",
   "execution_count": 6,
   "metadata": {},
   "outputs": [
    {
     "data": {
      "text/plain": [
       "0       24\n",
       "1       12\n",
       "2        9\n",
       "3       12\n",
       "4       20\n",
       "5        8\n",
       "6       42\n",
       "7       10\n",
       "8       14\n",
       "9       23\n",
       "10       5\n",
       "11       7\n",
       "12       9\n",
       "13      21\n",
       "14      12\n",
       "15      10\n",
       "16      24\n",
       "17       5\n",
       "18      19\n",
       "19      19\n",
       "20      21\n",
       "21      14\n",
       "22      41\n",
       "23      31\n",
       "24      23\n",
       "25       5\n",
       "26      25\n",
       "27      12\n",
       "28      16\n",
       "29      15\n",
       "        ..\n",
       "5931    13\n",
       "5932     9\n",
       "5933    21\n",
       "5934    19\n",
       "5935    12\n",
       "5936    34\n",
       "5937    19\n",
       "5938    36\n",
       "5939     7\n",
       "5940    40\n",
       "5941    30\n",
       "5942    51\n",
       "5943     3\n",
       "5944     2\n",
       "5945     4\n",
       "5946    12\n",
       "5947     6\n",
       "5948    15\n",
       "5949     8\n",
       "5950     4\n",
       "5951     4\n",
       "5952    47\n",
       "5953    35\n",
       "5954    31\n",
       "5955    10\n",
       "5956    19\n",
       "5957    33\n",
       "5958    41\n",
       "5959    15\n",
       "5960    17\n",
       "Name: years_exp, Length: 5961, dtype: int64"
      ]
     },
     "execution_count": 6,
     "metadata": {},
     "output_type": "execute_result"
    }
   ],
   "source": [
    "df.years_exp"
   ]
  },
  {
   "cell_type": "code",
   "execution_count": 3169,
   "metadata": {},
   "outputs": [
    {
     "data": {
      "text/html": [
       "<div>\n",
       "<style>\n",
       "    .dataframe thead tr:only-child th {\n",
       "        text-align: right;\n",
       "    }\n",
       "\n",
       "    .dataframe thead th {\n",
       "        text-align: left;\n",
       "    }\n",
       "\n",
       "    .dataframe tbody tr th {\n",
       "        vertical-align: top;\n",
       "    }\n",
       "</style>\n",
       "<table border=\"1\" class=\"dataframe\">\n",
       "  <thead>\n",
       "    <tr style=\"text-align: right;\">\n",
       "      <th></th>\n",
       "      <th>Fees</th>\n",
       "      <th>years_exp</th>\n",
       "    </tr>\n",
       "  </thead>\n",
       "  <tbody>\n",
       "    <tr>\n",
       "      <th>count</th>\n",
       "      <td>5961.000000</td>\n",
       "      <td>5961.000000</td>\n",
       "    </tr>\n",
       "    <tr>\n",
       "      <th>mean</th>\n",
       "      <td>307.944640</td>\n",
       "      <td>17.303976</td>\n",
       "    </tr>\n",
       "    <tr>\n",
       "      <th>std</th>\n",
       "      <td>190.920373</td>\n",
       "      <td>11.142798</td>\n",
       "    </tr>\n",
       "    <tr>\n",
       "      <th>min</th>\n",
       "      <td>5.000000</td>\n",
       "      <td>0.000000</td>\n",
       "    </tr>\n",
       "    <tr>\n",
       "      <th>25%</th>\n",
       "      <td>150.000000</td>\n",
       "      <td>9.000000</td>\n",
       "    </tr>\n",
       "    <tr>\n",
       "      <th>50%</th>\n",
       "      <td>300.000000</td>\n",
       "      <td>14.000000</td>\n",
       "    </tr>\n",
       "    <tr>\n",
       "      <th>75%</th>\n",
       "      <td>500.000000</td>\n",
       "      <td>23.000000</td>\n",
       "    </tr>\n",
       "    <tr>\n",
       "      <th>max</th>\n",
       "      <td>950.000000</td>\n",
       "      <td>66.000000</td>\n",
       "    </tr>\n",
       "  </tbody>\n",
       "</table>\n",
       "</div>"
      ],
      "text/plain": [
       "              Fees    years_exp\n",
       "count  5961.000000  5961.000000\n",
       "mean    307.944640    17.303976\n",
       "std     190.920373    11.142798\n",
       "min       5.000000     0.000000\n",
       "25%     150.000000     9.000000\n",
       "50%     300.000000    14.000000\n",
       "75%     500.000000    23.000000\n",
       "max     950.000000    66.000000"
      ]
     },
     "execution_count": 3169,
     "metadata": {},
     "output_type": "execute_result"
    }
   ],
   "source": [
    "df.describe()"
   ]
  },
  {
   "cell_type": "code",
   "execution_count": 3170,
   "metadata": {
    "collapsed": true
   },
   "outputs": [],
   "source": [
    "df['City'] = df['Place'].str.split(',').str[1]\n",
    "df['Locality'] = df['Place'].str.split(',').str[0]"
   ]
  },
  {
   "cell_type": "code",
   "execution_count": 3171,
   "metadata": {
    "collapsed": true
   },
   "outputs": [],
   "source": [
    "df['Qual_1'] = df['Qualification'].str.split(',').str[0]\n",
    "df['Qual_2'] = df['Qualification'].str.split(',').str[1]\n",
    "df['Qual_3'] = df['Qualification'].str.split(',').str[2]"
   ]
  },
  {
   "cell_type": "code",
   "execution_count": 8,
   "metadata": {},
   "outputs": [
    {
     "data": {
      "text/plain": [
       "0                 100% 16 Feedback Kakkanad, Ernakulam\n",
       "1                98% 76 Feedback Whitefield, Bangalore\n",
       "2                                                  NaN\n",
       "3    Bannerghatta Road, Bangalore ₹250 Available on...\n",
       "4                100% 4 Feedback Keelkattalai, Chennai\n",
       "5                                                  NaN\n",
       "6                                                  NaN\n",
       "7    Dental Fillings Crowns and Bridges Fixing Impa...\n",
       "8                                                  NaN\n",
       "9                                                  NaN\n",
       "Name: Miscellaneous_Info, dtype: object"
      ]
     },
     "execution_count": 8,
     "metadata": {},
     "output_type": "execute_result"
    }
   ],
   "source": [
    "df.Miscellaneous_Info.head(10)"
   ]
  },
  {
   "cell_type": "code",
   "execution_count": 9,
   "metadata": {},
   "outputs": [
    {
     "data": {
      "text/plain": [
       "100                                                                                                                                              335\n",
       "98                                                                                                                                               138\n",
       "96                                                                                                                                               133\n",
       "97                                                                                                                                               132\n",
       "99                                                                                                                                               120\n",
       "95                                                                                                                                               104\n",
       "93                                                                                                                                                71\n",
       "94                                                                                                                                                68\n",
       "92                                                                                                                                                43\n",
       "90                                                                                                                                                40\n",
       "Acrylic Partial Denture Crowns and Bridges Fixing Artificial Teeth                                                                                40\n",
       "91                                                                                                                                                36\n",
       "89                                                                                                                                                32\n",
       "88                                                                                                                                                28\n",
       "85                                                                                                                                                23\n",
       "83                                                                                                                                                18\n",
       "80                                                                                                                                                16\n",
       "86                                                                                                                                                14\n",
       "77                                                                                                                                                12\n",
       "Dental Fillings Zirconia Crowns Dental Implant Fixing                                                                                             12\n",
       "82                                                                                                                                                12\n",
       "Tooth Extraction Dental Fillings Scaling / Polishing                                                                                              12\n",
       "87                                                                                                                                                10\n",
       "67                                                                                                                                                10\n",
       "81                                                                                                                                                10\n",
       "84                                                                                                                                                10\n",
       "Skin Allergy Treatment Skin Allergies Dermabrasion                                                                                                 9\n",
       "Skin Disease Treatment Kidney Stone Treatment Gall Bladder (Biliary) Stone Treatment                                                               9\n",
       "Dermabrasion Laser Resurfacing Acne / Pimples Treatment                                                                                            8\n",
       "75                                                                                                                                                 8\n",
       "                                                                                                                                                ... \n",
       "Crowns and Bridges Fixing Laser Gum Surgery Presurgical Orthodontics                                                                               1\n",
       "Malad West, Mumbai ₹400 Visits Today                                                                                                               1\n",
       "Janak Puri, Delhi ₹250 Visits Today                                                                                                                1\n",
       "Dental Braces Fixing Smile Align Cosmetic Filling                                                                                                  1\n",
       "Skin Tag Treatment Skin Rejuvenation Skin Peeling                                                                                                  1\n",
       "Acne / Pimples Treatment Hair Loss Treatment Psoriasis Treatment                                                                                   1\n",
       "Cleft Lip Repair Cleft Lip and Palate Rhinoplasty                                                                                                  1\n",
       "Dental Surgery Dental Implant Fixing Crowns and Bridges Fixing                                                                                     1\n",
       "root canal treatment Metal Braces Fixing Dental Braces Fixing                                                                                      1\n",
       "Scaling / Polishing RCT - Root Canal Treatment Dental Crowns                                                                                       1\n",
       "Electrocardiography (ECG) Diabetes Management Dengue Fever Treatment                                                                               1\n",
       "Laser Hair Removal - Face Laser Resurfacing Wart Removal                                                                                           1\n",
       "Dental Implant Fixing Smile Design BPS Dentures Fixing                                                                                             1\n",
       "Diabetes Management Heart & Chest Problems Fever Treatment                                                                                         1\n",
       "Impaction / Impacted Tooth Extraction Endo Surgery Or Apicoectomy Dental Fillings                                                                  1\n",
       "Obesity Treatment Hair Loss Treatment Skin Disease Treatment                                                                                       1\n",
       "Acrylic Partial Denture BPS Dentures Fixing Gum Disease Treatment/ Surgery                                                                         1\n",
       "Presurgical Orthodontics Dental Examinations Orthotic Splints                                                                                      1\n",
       "Artificial Teeth Maxillo Facial Prosthodontics Flexible Partial/Complete Denture                                                                   1\n",
       "Non-Invasive Cardiology Treatment of arrhythmia Chest Pain Treatment                                                                               1\n",
       "Surgery Of The Facial Nerve Thyroplasty Head and Neck Tumor / Cancer Surgery                                                                       1\n",
       "Restoring worn dentition Temporomandibular Problems Extra-oral Maxillofacial Prosthesis.(Ear prosthesis,Eye Prosthesis and Facial Prosthesis)      1\n",
       "Tooth Extraction Fixed Prosthodontics Ceramic Veneers / Crowns                                                                                     1\n",
       "Gum Disease Treatment/ Surgery Surgical Tooth Extraction Impaction / Impacted Tooth Extraction                                                     1\n",
       "Complete/Partial Dentures Fixing Impaction / Impacted Tooth Extraction Cast Partial Denture                                                        1\n",
       "Dermatologic Surgery Small Hair Loss Treatment Anti Aging Treatment                                                                                1\n",
       "Patparganj, Delhi ₹700 Available on Fri, 08 Feb                                                                                                    1\n",
       "Allergy Treatment Kidney Stone Treatment Skin Allergy Treatment                                                                                    1\n",
       "Invisible/Clear Braces Dental Braces Fixing Preadjusted Edgewise Technique                                                                         1\n",
       "Health Checkup (General) Infectious Disease Treatment Diabetes Management                                                                          1\n",
       "Name: Misc, Length: 1557, dtype: int64"
      ]
     },
     "execution_count": 9,
     "metadata": {},
     "output_type": "execute_result"
    }
   ],
   "source": [
    "df['Misc'] = df['Miscellaneous_Info'].str.split('%').str[0]\n",
    "df.Misc.value_counts()"
   ]
  },
  {
   "cell_type": "code",
   "execution_count": null,
   "metadata": {},
   "outputs": [],
   "source": []
  },
  {
   "cell_type": "code",
   "execution_count": null,
   "metadata": {},
   "outputs": [],
   "source": []
  },
  {
   "cell_type": "code",
   "execution_count": null,
   "metadata": {},
   "outputs": [],
   "source": []
  },
  {
   "cell_type": "code",
   "execution_count": 3172,
   "metadata": {
    "collapsed": true
   },
   "outputs": [],
   "source": [
    "\n",
    "\n",
    "df['Misc_len'] = df['Misc'].str.len()\n",
    "\n",
    "df.loc[df['Misc_len']>3, 'Misc'] = 0\n",
    "\n",
    "df['Misc'].fillna(0,inplace = True)\n",
    "\n",
    "df['Misc'] = df['Misc'].astype(int)\n",
    "\n",
    "df['Misc_2'] = df['Miscellaneous_Info'].str.split('% ').str[1]\n",
    "\n",
    "df['Misc_3'] = df['Misc_2'].str.split(' ').str[0]\n",
    "\n",
    "df['Misc_3'].fillna(0,inplace = True)\n",
    "\n",
    "df['Misc_3_len'] = df['Misc_3'].str.len()\n",
    "\n",
    "df.loc[df['Misc_3_len']>3, 'Misc_3'] = 0\n",
    "\n",
    "df.loc[df['Misc_3']==',', 'Misc_3'] = 0\n",
    "\n",
    "df['Misc_3'] = df['Misc_3'].astype(int)\n",
    "\n",
    "df['Fees1'] = df['Fees']\n",
    "\n",
    "df = df.drop(['Fees'],axis=1)"
   ]
  },
  {
   "cell_type": "code",
   "execution_count": 3173,
   "metadata": {},
   "outputs": [],
   "source": [
    "df['Misc_4'] = df['Misc']*np.log((1+df['Misc_3']))"
   ]
  },
  {
   "cell_type": "code",
   "execution_count": null,
   "metadata": {},
   "outputs": [],
   "source": []
  },
  {
   "cell_type": "code",
   "execution_count": 3174,
   "metadata": {
    "collapsed": true
   },
   "outputs": [],
   "source": [
    "df['Rating'].fillna('0%',inplace = True)"
   ]
  },
  {
   "cell_type": "code",
   "execution_count": 3175,
   "metadata": {
    "collapsed": true
   },
   "outputs": [],
   "source": [
    "df['Rating'] = df['Rating'].str.slice(stop=-1).astype(int)"
   ]
  },
  {
   "cell_type": "code",
   "execution_count": 3176,
   "metadata": {},
   "outputs": [
    {
     "data": {
      "text/plain": [
       "array([' Ernakulam', ' Bangalore', ' Chennai', ' Delhi', ' Hyderabad',\n",
       "       ' Coimbatore', ' Mumbai', ' Thiruvananthapuram', nan, ' Sector 5'], dtype=object)"
      ]
     },
     "execution_count": 3176,
     "metadata": {},
     "output_type": "execute_result"
    }
   ],
   "source": [
    "df['City'].unique()"
   ]
  },
  {
   "cell_type": "code",
   "execution_count": 3177,
   "metadata": {},
   "outputs": [
    {
     "data": {
      "text/plain": [
       "array(['Homeopath', 'Ayurveda', 'ENT Specialist', 'Dentist',\n",
       "       'General Medicine', 'Dermatologists'], dtype=object)"
      ]
     },
     "execution_count": 3177,
     "metadata": {},
     "output_type": "execute_result"
    }
   ],
   "source": [
    "df['Profile'].unique()"
   ]
  },
  {
   "cell_type": "code",
   "execution_count": 3178,
   "metadata": {},
   "outputs": [
    {
     "data": {
      "text/plain": [
       "Qualification          object\n",
       "Experience             object\n",
       "Rating                  int32\n",
       "Place                  object\n",
       "Profile                object\n",
       "Miscellaneous_Info     object\n",
       "years_exp               int32\n",
       "City                   object\n",
       "Locality               object\n",
       "Qual_1                 object\n",
       "Qual_2                 object\n",
       "Qual_3                 object\n",
       "Misc                    int32\n",
       "Misc_len              float64\n",
       "Misc_2                 object\n",
       "Misc_3                  int32\n",
       "Misc_3_len            float64\n",
       "Fees1                   int64\n",
       "Misc_4                float64\n",
       "dtype: object"
      ]
     },
     "execution_count": 3178,
     "metadata": {},
     "output_type": "execute_result"
    }
   ],
   "source": [
    "df.dtypes"
   ]
  },
  {
   "cell_type": "code",
   "execution_count": 3179,
   "metadata": {
    "collapsed": true
   },
   "outputs": [],
   "source": [
    "from sklearn.preprocessing import LabelEncoder"
   ]
  },
  {
   "cell_type": "code",
   "execution_count": 3180,
   "metadata": {
    "collapsed": true
   },
   "outputs": [],
   "source": [
    "df['City'].fillna(\"XXX\",inplace = True)\n",
    "df['Locality'].fillna(\"XXX\",inplace = True)\n",
    "df['Qualification'].fillna(\"XXX\",inplace = True)\n",
    "df['Profile'].fillna(\"XXX\",inplace = True)\n",
    "df['Qual_1'].fillna(\"XXX\",inplace = True)\n",
    "df['Qual_2'].fillna(\"XXX\",inplace = True)\n",
    "df['Qual_3'].fillna(\"XXX\",inplace = True)"
   ]
  },
  {
   "cell_type": "code",
   "execution_count": null,
   "metadata": {},
   "outputs": [],
   "source": []
  },
  {
   "cell_type": "code",
   "execution_count": null,
   "metadata": {},
   "outputs": [],
   "source": []
  },
  {
   "cell_type": "code",
   "execution_count": 3181,
   "metadata": {
    "collapsed": true
   },
   "outputs": [],
   "source": [
    "lb_City = LabelEncoder()\n",
    "df[\"City_code\"] = lb_City.fit_transform(df[\"City\"])"
   ]
  },
  {
   "cell_type": "code",
   "execution_count": 3182,
   "metadata": {
    "collapsed": true
   },
   "outputs": [],
   "source": [
    "lb_Locality = LabelEncoder()\n",
    "df[\"Locality_code\"] = lb_Locality.fit_transform(df[\"Locality\"])"
   ]
  },
  {
   "cell_type": "code",
   "execution_count": 3183,
   "metadata": {
    "collapsed": true
   },
   "outputs": [],
   "source": [
    "lb_qual_1 = LabelEncoder()\n",
    "df[\"Qual_1_code\"] = lb_Locality.fit_transform(df[\"Qual_1\"])"
   ]
  },
  {
   "cell_type": "code",
   "execution_count": 3184,
   "metadata": {},
   "outputs": [],
   "source": [
    "x = df.loc[df['Qual_1'] == 'Get inspired by remarkable stories of people like you', 'Qual_1_code']"
   ]
  },
  {
   "cell_type": "code",
   "execution_count": null,
   "metadata": {},
   "outputs": [],
   "source": []
  },
  {
   "cell_type": "code",
   "execution_count": null,
   "metadata": {},
   "outputs": [],
   "source": []
  },
  {
   "cell_type": "code",
   "execution_count": 3185,
   "metadata": {
    "collapsed": true
   },
   "outputs": [],
   "source": [
    "lb_qual_2 = LabelEncoder()\n",
    "df[\"Qual_2_code\"] = lb_Locality.fit_transform(df[\"Qual_2\"])"
   ]
  },
  {
   "cell_type": "code",
   "execution_count": 3186,
   "metadata": {
    "collapsed": true
   },
   "outputs": [],
   "source": [
    "lb_qual_3 = LabelEncoder()\n",
    "df[\"Qual_3_code\"] = lb_Locality.fit_transform(df[\"Qual_3\"])"
   ]
  },
  {
   "cell_type": "code",
   "execution_count": 3187,
   "metadata": {
    "collapsed": true
   },
   "outputs": [],
   "source": [
    "lb_Profile = LabelEncoder()\n",
    "df[\"Profile_code\"] = lb_Locality.fit_transform(df[\"Profile\"])"
   ]
  },
  {
   "cell_type": "code",
   "execution_count": 3188,
   "metadata": {
    "scrolled": true
   },
   "outputs": [
    {
     "data": {
      "text/plain": [
       "Qualification          object\n",
       "Experience             object\n",
       "Rating                  int32\n",
       "Place                  object\n",
       "Profile                object\n",
       "Miscellaneous_Info     object\n",
       "years_exp               int32\n",
       "City                   object\n",
       "Locality               object\n",
       "Qual_1                 object\n",
       "Qual_2                 object\n",
       "Qual_3                 object\n",
       "Misc                    int32\n",
       "Misc_len              float64\n",
       "Misc_2                 object\n",
       "Misc_3                  int32\n",
       "Misc_3_len            float64\n",
       "Fees1                   int64\n",
       "Misc_4                float64\n",
       "City_code               int64\n",
       "Locality_code           int64\n",
       "Qual_1_code             int64\n",
       "Qual_2_code             int64\n",
       "Qual_3_code             int64\n",
       "Profile_code            int64\n",
       "dtype: object"
      ]
     },
     "execution_count": 3188,
     "metadata": {},
     "output_type": "execute_result"
    }
   ],
   "source": [
    "df.dtypes"
   ]
  },
  {
   "cell_type": "code",
   "execution_count": 3248,
   "metadata": {},
   "outputs": [
    {
     "data": {
      "text/plain": [
       "array([ 0,  1,  2,  3,  4,  5,  6,  7,  8,  9, 10, 11, 12, 14, 15, 17, 19,\n",
       "       20, 21, 22, 23, 24], dtype=int64)"
      ]
     },
     "execution_count": 3248,
     "metadata": {},
     "output_type": "execute_result"
    }
   ],
   "source": [
    "np.where(df.dtypes != np.float)[0]"
   ]
  },
  {
   "cell_type": "code",
   "execution_count": 3189,
   "metadata": {},
   "outputs": [],
   "source": [
    "df_xgb = df[['Qual_1_code','Qual_2_code','Qual_3_code','years_exp', 'Rating','Profile_code','Locality_code','City_code','Misc_4','Fees1']]"
   ]
  },
  {
   "cell_type": "code",
   "execution_count": 3190,
   "metadata": {
    "collapsed": true
   },
   "outputs": [],
   "source": [
    "#df_xgb = df[['Qual_1_code','Qual_3_code','years_exp','Locality_code','Misc_4','Fees1']]"
   ]
  },
  {
   "cell_type": "code",
   "execution_count": 3193,
   "metadata": {
    "collapsed": true
   },
   "outputs": [],
   "source": [
    "X, y = df_xgb.iloc[:,:-1],df_xgb.iloc[:,-1]"
   ]
  },
  {
   "cell_type": "code",
   "execution_count": 3194,
   "metadata": {
    "collapsed": true
   },
   "outputs": [],
   "source": [
    "import xgboost as xgb\n",
    "from sklearn.metrics import mean_squared_error"
   ]
  },
  {
   "cell_type": "code",
   "execution_count": 3195,
   "metadata": {
    "collapsed": true
   },
   "outputs": [],
   "source": [
    "data_dmatrix = xgb.DMatrix(data=X,label=y)"
   ]
  },
  {
   "cell_type": "code",
   "execution_count": 3196,
   "metadata": {
    "collapsed": true
   },
   "outputs": [],
   "source": [
    "from sklearn.model_selection import train_test_split\n",
    "\n",
    "X_train, X_test, y_train, y_test = train_test_split(X, y, test_size=0.3, random_state=123)"
   ]
  },
  {
   "cell_type": "code",
   "execution_count": 3197,
   "metadata": {
    "collapsed": true
   },
   "outputs": [],
   "source": [
    "# xg_reg = xgb.XGBRegressor(objective ='reg:linear', colsample_bytree = 0.3, learning_rate = 0.1, max_depth = 5, n_estimators = 10)"
   ]
  },
  {
   "cell_type": "code",
   "execution_count": 3198,
   "metadata": {
    "collapsed": true
   },
   "outputs": [],
   "source": [
    "# xg_reg.fit(X_train,y_train)\n",
    "\n",
    "# preds = xg_reg.predict(X_test)"
   ]
  },
  {
   "cell_type": "code",
   "execution_count": 3199,
   "metadata": {},
   "outputs": [
    {
     "name": "stdout",
     "output_type": "stream",
     "text": [
      "RMSE: 214.994424\n"
     ]
    }
   ],
   "source": [
    "# rmse = np.sqrt(mean_squared_error(y_test, preds))\n",
    "# print(\"RMSE: %f\" % (rmse))"
   ]
  },
  {
   "cell_type": "code",
   "execution_count": null,
   "metadata": {
    "collapsed": true
   },
   "outputs": [],
   "source": []
  },
  {
   "cell_type": "code",
   "execution_count": 3200,
   "metadata": {
    "collapsed": true
   },
   "outputs": [],
   "source": [
    "# params = {\"objective\":\"reg:linear\",'colsample_bytree': 0.3,'learning_rate': 0.1,\n",
    "                'max_depth': 5, 'alpha': 10}\n",
    "\n",
    "# cv_results = xgb.cv(dtrain=data_dmatrix, params=params, nfold=3,\n",
    "#                     num_boost_round=50,early_stopping_rounds=10,metrics=\"rmse\", as_pandas=True, seed=123)"
   ]
  },
  {
   "cell_type": "code",
   "execution_count": 3201,
   "metadata": {},
   "outputs": [
    {
     "data": {
      "text/html": [
       "<div>\n",
       "<style>\n",
       "    .dataframe thead tr:only-child th {\n",
       "        text-align: right;\n",
       "    }\n",
       "\n",
       "    .dataframe thead th {\n",
       "        text-align: left;\n",
       "    }\n",
       "\n",
       "    .dataframe tbody tr th {\n",
       "        vertical-align: top;\n",
       "    }\n",
       "</style>\n",
       "<table border=\"1\" class=\"dataframe\">\n",
       "  <thead>\n",
       "    <tr style=\"text-align: right;\">\n",
       "      <th></th>\n",
       "      <th>test-rmse-mean</th>\n",
       "      <th>test-rmse-std</th>\n",
       "      <th>train-rmse-mean</th>\n",
       "      <th>train-rmse-std</th>\n",
       "    </tr>\n",
       "  </thead>\n",
       "  <tbody>\n",
       "    <tr>\n",
       "      <th>0</th>\n",
       "      <td>335.413666</td>\n",
       "      <td>1.568630</td>\n",
       "      <td>335.342194</td>\n",
       "      <td>0.659724</td>\n",
       "    </tr>\n",
       "    <tr>\n",
       "      <th>1</th>\n",
       "      <td>312.566254</td>\n",
       "      <td>1.609778</td>\n",
       "      <td>312.402171</td>\n",
       "      <td>0.559384</td>\n",
       "    </tr>\n",
       "    <tr>\n",
       "      <th>2</th>\n",
       "      <td>292.492493</td>\n",
       "      <td>1.496401</td>\n",
       "      <td>292.269511</td>\n",
       "      <td>0.469234</td>\n",
       "    </tr>\n",
       "    <tr>\n",
       "      <th>3</th>\n",
       "      <td>275.427877</td>\n",
       "      <td>1.415945</td>\n",
       "      <td>275.089732</td>\n",
       "      <td>0.401313</td>\n",
       "    </tr>\n",
       "    <tr>\n",
       "      <th>4</th>\n",
       "      <td>260.615255</td>\n",
       "      <td>1.427818</td>\n",
       "      <td>260.105947</td>\n",
       "      <td>0.388899</td>\n",
       "    </tr>\n",
       "  </tbody>\n",
       "</table>\n",
       "</div>"
      ],
      "text/plain": [
       "   test-rmse-mean  test-rmse-std  train-rmse-mean  train-rmse-std\n",
       "0      335.413666       1.568630       335.342194        0.659724\n",
       "1      312.566254       1.609778       312.402171        0.559384\n",
       "2      292.492493       1.496401       292.269511        0.469234\n",
       "3      275.427877       1.415945       275.089732        0.401313\n",
       "4      260.615255       1.427818       260.105947        0.388899"
      ]
     },
     "execution_count": 3201,
     "metadata": {},
     "output_type": "execute_result"
    }
   ],
   "source": [
    "# cv_results.head()"
   ]
  },
  {
   "cell_type": "code",
   "execution_count": 3202,
   "metadata": {},
   "outputs": [
    {
     "name": "stdout",
     "output_type": "stream",
     "text": [
      "49    177.275472\n",
      "Name: test-rmse-mean, dtype: float64\n"
     ]
    }
   ],
   "source": [
    "# print((cv_results[\"test-rmse-mean\"]).tail(1))"
   ]
  },
  {
   "cell_type": "code",
   "execution_count": 3203,
   "metadata": {
    "scrolled": true
   },
   "outputs": [
    {
     "data": {
      "image/png": "[encoded data removed]",
      "text/plain": [
       "<matplotlib.figure.Figure at 0x13c8b550>"
      ]
     },
     "metadata": {},
     "output_type": "display_data"
    }
   ],
   "source": [
    "#xgb.plot_importance(xg_reg)\n",
    "#plt.rcParams['figure.figsize'] = [5, 5]\n",
    "# plt.show()"
   ]
  },
  {
   "cell_type": "code",
   "execution_count": null,
   "metadata": {
    "collapsed": true
   },
   "outputs": [],
   "source": [
    "\n"
   ]
  },
  {
   "cell_type": "code",
   "execution_count": 3204,
   "metadata": {
    "collapsed": true
   },
   "outputs": [],
   "source": [
    "df_test=pd.read_excel(\"/Users/sd15068/Downloads/Final Participant Data Folder/Final_Test.xlsx\")"
   ]
  },
  {
   "cell_type": "code",
   "execution_count": 3205,
   "metadata": {},
   "outputs": [
    {
     "data": {
      "text/html": [
       "<div>\n",
       "<style>\n",
       "    .dataframe thead tr:only-child th {\n",
       "        text-align: right;\n",
       "    }\n",
       "\n",
       "    .dataframe thead th {\n",
       "        text-align: left;\n",
       "    }\n",
       "\n",
       "    .dataframe tbody tr th {\n",
       "        vertical-align: top;\n",
       "    }\n",
       "</style>\n",
       "<table border=\"1\" class=\"dataframe\">\n",
       "  <thead>\n",
       "    <tr style=\"text-align: right;\">\n",
       "      <th></th>\n",
       "      <th>Qualification</th>\n",
       "      <th>Experience</th>\n",
       "      <th>Rating</th>\n",
       "      <th>Place</th>\n",
       "      <th>Profile</th>\n",
       "      <th>Miscellaneous_Info</th>\n",
       "    </tr>\n",
       "  </thead>\n",
       "  <tbody>\n",
       "    <tr>\n",
       "      <th>0</th>\n",
       "      <td>MBBS</td>\n",
       "      <td>35 years experience</td>\n",
       "      <td>NaN</td>\n",
       "      <td>Ghatkopar East, Mumbai</td>\n",
       "      <td>General Medicine</td>\n",
       "      <td>NaN</td>\n",
       "    </tr>\n",
       "    <tr>\n",
       "      <th>1</th>\n",
       "      <td>MBBS, Diploma in Otorhinolaryngology (DLO)</td>\n",
       "      <td>31 years experience</td>\n",
       "      <td>NaN</td>\n",
       "      <td>West Marredpally, Hyderabad</td>\n",
       "      <td>ENT Specialist</td>\n",
       "      <td>NaN</td>\n",
       "    </tr>\n",
       "    <tr>\n",
       "      <th>2</th>\n",
       "      <td>MBBS, DDVL</td>\n",
       "      <td>40 years experience</td>\n",
       "      <td>70%</td>\n",
       "      <td>KK Nagar, Chennai</td>\n",
       "      <td>Dermatologists</td>\n",
       "      <td>70% 4 Feedback KK Nagar, Chennai</td>\n",
       "    </tr>\n",
       "    <tr>\n",
       "      <th>3</th>\n",
       "      <td>BAMS</td>\n",
       "      <td>0 years experience</td>\n",
       "      <td>NaN</td>\n",
       "      <td>New Ashok Nagar, Delhi</td>\n",
       "      <td>Ayurveda</td>\n",
       "      <td>NaN</td>\n",
       "    </tr>\n",
       "    <tr>\n",
       "      <th>4</th>\n",
       "      <td>BDS, MDS - Conservative Dentistry &amp; Endodontics</td>\n",
       "      <td>16 years experience</td>\n",
       "      <td>100%</td>\n",
       "      <td>Kanakpura Road, Bangalore</td>\n",
       "      <td>Dentist</td>\n",
       "      <td>General Dentistry Conservative Dentistry Cosme...</td>\n",
       "    </tr>\n",
       "  </tbody>\n",
       "</table>\n",
       "</div>"
      ],
      "text/plain": [
       "                                     Qualification           Experience  \\\n",
       "0                                             MBBS  35 years experience   \n",
       "1       MBBS, Diploma in Otorhinolaryngology (DLO)  31 years experience   \n",
       "2                                       MBBS, DDVL  40 years experience   \n",
       "3                                             BAMS   0 years experience   \n",
       "4  BDS, MDS - Conservative Dentistry & Endodontics  16 years experience   \n",
       "\n",
       "  Rating                        Place           Profile  \\\n",
       "0    NaN       Ghatkopar East, Mumbai  General Medicine   \n",
       "1    NaN  West Marredpally, Hyderabad    ENT Specialist   \n",
       "2    70%            KK Nagar, Chennai    Dermatologists   \n",
       "3    NaN       New Ashok Nagar, Delhi          Ayurveda   \n",
       "4   100%    Kanakpura Road, Bangalore           Dentist   \n",
       "\n",
       "                                  Miscellaneous_Info  \n",
       "0                                                NaN  \n",
       "1                                                NaN  \n",
       "2                   70% 4 Feedback KK Nagar, Chennai  \n",
       "3                                                NaN  \n",
       "4  General Dentistry Conservative Dentistry Cosme...  "
      ]
     },
     "execution_count": 3205,
     "metadata": {},
     "output_type": "execute_result"
    }
   ],
   "source": [
    "df_test.head()"
   ]
  },
  {
   "cell_type": "code",
   "execution_count": 3206,
   "metadata": {
    "collapsed": true
   },
   "outputs": [],
   "source": [
    "df_test['years_exp'] = df_test['Experience'].str.slice(stop=2).astype(int)"
   ]
  },
  {
   "cell_type": "code",
   "execution_count": 3207,
   "metadata": {
    "collapsed": true
   },
   "outputs": [],
   "source": [
    "df_test['City'] = df_test['Place'].str.split(',').str[1]\n",
    "df_test['Locality'] = df_test['Place'].str.split(',').str[0]"
   ]
  },
  {
   "cell_type": "code",
   "execution_count": 3208,
   "metadata": {
    "collapsed": true
   },
   "outputs": [],
   "source": [
    "df_test['Rating'].fillna('95%',inplace = True)\n",
    "df_test['Rating'] = df_test['Rating'].str.slice(stop=-1).astype(int)"
   ]
  },
  {
   "cell_type": "code",
   "execution_count": 3209,
   "metadata": {
    "collapsed": true
   },
   "outputs": [],
   "source": [
    "df_test['Qual_1'] = df['Qualification'].str.split(',').str[0]\n",
    "df_test['Qual_2'] = df['Qualification'].str.split(',').str[1]\n",
    "df_test['Qual_3'] = df['Qualification'].str.split(',').str[2]"
   ]
  },
  {
   "cell_type": "code",
   "execution_count": 3210,
   "metadata": {
    "collapsed": true
   },
   "outputs": [],
   "source": [
    "df_test['City'].fillna(\"XXX\",inplace = True)\n",
    "df_test['Locality'].fillna(\"XXX\",inplace = True)\n",
    "df_test['Qual_1'].fillna(\"XXX\",inplace = True)\n",
    "df_test['Qual_2'].fillna(\"XXX\",inplace = True)\n",
    "df_test['Qual_3'].fillna(\"XXX\",inplace = True)\n",
    "df_test['Profile'].fillna(\"XXX\",inplace = True)"
   ]
  },
  {
   "cell_type": "code",
   "execution_count": 3211,
   "metadata": {
    "collapsed": true
   },
   "outputs": [],
   "source": [
    "df_test['Misc'] = df_test['Miscellaneous_Info'].str.split('%').str[0]\n",
    "\n",
    "df_test['Misc_len'] = df_test['Misc'].str.len()\n",
    "\n",
    "df_test.loc[df_test['Misc_len']>3, 'Misc'] = 0\n",
    "\n",
    "df_test['Misc'].fillna(0,inplace = True)\n",
    "\n",
    "df_test['Misc'] = df_test['Misc'].astype(int)\n",
    "\n",
    "df_test['Misc_2'] = df_test['Miscellaneous_Info'].str.split('% ').str[1]\n",
    "\n",
    "df_test['Misc_3'] = df_test['Misc_2'].str.split(' ').str[0]\n",
    "\n",
    "df_test['Misc_3'].fillna(0,inplace = True)\n",
    "\n",
    "df_test['Misc_3_len'] = df_test['Misc_3'].str.len()\n",
    "\n",
    "df_test.loc[df_test['Misc_3_len']>3, 'Misc_3'] = 0\n",
    "\n",
    "df_test.loc[df_test['Misc_3']==',', 'Misc_3'] = 0\n",
    "\n",
    "df_test['Misc_3'] = df_test['Misc_3'].astype(int)"
   ]
  },
  {
   "cell_type": "code",
   "execution_count": 3212,
   "metadata": {
    "collapsed": true
   },
   "outputs": [],
   "source": [
    "df_test['Misc_4'] = df_test['Misc']*np.log(1+df['Misc_3'])"
   ]
  },
  {
   "cell_type": "code",
   "execution_count": null,
   "metadata": {
    "collapsed": true
   },
   "outputs": [],
   "source": []
  },
  {
   "cell_type": "code",
   "execution_count": 3213,
   "metadata": {
    "collapsed": true
   },
   "outputs": [],
   "source": [
    "lb_City = LabelEncoder()\n",
    "df_test[\"City_code\"] = lb_City.fit_transform(df_test[\"City\"])"
   ]
  },
  {
   "cell_type": "code",
   "execution_count": 3214,
   "metadata": {
    "collapsed": true
   },
   "outputs": [],
   "source": [
    "lb_Locality = LabelEncoder()\n",
    "df_test[\"Locality_code\"] = lb_Locality.fit_transform(df_test[\"Locality\"])"
   ]
  },
  {
   "cell_type": "code",
   "execution_count": 3215,
   "metadata": {
    "collapsed": true
   },
   "outputs": [],
   "source": [
    "lb_qual_1 = LabelEncoder()\n",
    "df_test[\"Qual_1_code\"] = lb_Locality.fit_transform(df_test[\"Qual_1\"])"
   ]
  },
  {
   "cell_type": "code",
   "execution_count": 3216,
   "metadata": {
    "collapsed": true
   },
   "outputs": [],
   "source": [
    "lb_qual_2 = LabelEncoder()\n",
    "df_test[\"Qual_2_code\"] = lb_Locality.fit_transform(df_test[\"Qual_2\"])"
   ]
  },
  {
   "cell_type": "code",
   "execution_count": 3217,
   "metadata": {
    "collapsed": true
   },
   "outputs": [],
   "source": [
    "lb_qual_3 = LabelEncoder()\n",
    "df_test[\"Qual_3_code\"] = lb_Locality.fit_transform(df_test[\"Qual_3\"])"
   ]
  },
  {
   "cell_type": "code",
   "execution_count": 3218,
   "metadata": {},
   "outputs": [],
   "source": [
    "x = df_test.loc[df['Qual_1'] == 'Get inspired by remarkable stories of people like you', 'Qual_1_code']"
   ]
  },
  {
   "cell_type": "code",
   "execution_count": null,
   "metadata": {},
   "outputs": [],
   "source": []
  },
  {
   "cell_type": "code",
   "execution_count": null,
   "metadata": {
    "collapsed": true
   },
   "outputs": [],
   "source": []
  },
  {
   "cell_type": "code",
   "execution_count": 3219,
   "metadata": {
    "collapsed": true
   },
   "outputs": [],
   "source": [
    "lb_Profile = LabelEncoder()\n",
    "df_test[\"Profile_code\"] = lb_Locality.fit_transform(df_test[\"Profile\"])"
   ]
  },
  {
   "cell_type": "code",
   "execution_count": 3220,
   "metadata": {
    "collapsed": true
   },
   "outputs": [],
   "source": [
    "# df_test_xgb = df_test[['Qual_1_code','Qual_2_code','Qual_3_code','years_exp', 'Rating','Profile_code','Locality_code','City_code','Misc_4']]"
   ]
  },
  {
   "cell_type": "code",
   "execution_count": 3221,
   "metadata": {
    "collapsed": true
   },
   "outputs": [],
   "source": [
    "df_test_xgb = df_test[['Qual_1_code','Qual_3_code','years_exp','Locality_code','Misc_4']]"
   ]
  },
  {
   "cell_type": "code",
   "execution_count": 3222,
   "metadata": {},
   "outputs": [],
   "source": [
    "preds_1 = xg_reg.predict(df_test_xgb)"
   ]
  },
  {
   "cell_type": "code",
   "execution_count": 3223,
   "metadata": {},
   "outputs": [
    {
     "data": {
      "text/plain": [
       "array([ 182.23080444,  195.23812866,  215.70562744, ...,  216.57286072,\n",
       "        221.44563293,  216.57286072], dtype=float32)"
      ]
     },
     "execution_count": 3223,
     "metadata": {},
     "output_type": "execute_result"
    }
   ],
   "source": [
    "preds_1"
   ]
  },
  {
   "cell_type": "code",
   "execution_count": 3224,
   "metadata": {},
   "outputs": [
    {
     "name": "stderr",
     "output_type": "stream",
     "text": [
      "C:\\Users\\sd15068\\AppData\\Local\\Continuum\\Anaconda3\\lib\\site-packages\\ipykernel_launcher.py:1: SettingWithCopyWarning: \n",
      "A value is trying to be set on a copy of a slice from a DataFrame.\n",
      "Try using .loc[row_indexer,col_indexer] = value instead\n",
      "\n",
      "See the caveats in the documentation: http://pandas.pydata.org/pandas-docs/stable/indexing.html#indexing-view-versus-copy\n",
      "  \"\"\"Entry point for launching an IPython kernel.\n"
     ]
    }
   ],
   "source": [
    "df_test_xgb['Fees'] = preds_1"
   ]
  },
  {
   "cell_type": "code",
   "execution_count": 3225,
   "metadata": {},
   "outputs": [
    {
     "data": {
      "text/html": [
       "<div>\n",
       "<style>\n",
       "    .dataframe thead tr:only-child th {\n",
       "        text-align: right;\n",
       "    }\n",
       "\n",
       "    .dataframe thead th {\n",
       "        text-align: left;\n",
       "    }\n",
       "\n",
       "    .dataframe tbody tr th {\n",
       "        vertical-align: top;\n",
       "    }\n",
       "</style>\n",
       "<table border=\"1\" class=\"dataframe\">\n",
       "  <thead>\n",
       "    <tr style=\"text-align: right;\">\n",
       "      <th></th>\n",
       "      <th>Qual_1_code</th>\n",
       "      <th>Qual_3_code</th>\n",
       "      <th>years_exp</th>\n",
       "      <th>Locality_code</th>\n",
       "      <th>Misc_4</th>\n",
       "      <th>Fees</th>\n",
       "    </tr>\n",
       "  </thead>\n",
       "  <tbody>\n",
       "    <tr>\n",
       "      <th>0</th>\n",
       "      <td>4</td>\n",
       "      <td>191</td>\n",
       "      <td>35</td>\n",
       "      <td>142</td>\n",
       "      <td>0.0</td>\n",
       "      <td>182.230804</td>\n",
       "    </tr>\n",
       "    <tr>\n",
       "      <th>1</th>\n",
       "      <td>2</td>\n",
       "      <td>191</td>\n",
       "      <td>31</td>\n",
       "      <td>577</td>\n",
       "      <td>0.0</td>\n",
       "      <td>195.238129</td>\n",
       "    </tr>\n",
       "    <tr>\n",
       "      <th>2</th>\n",
       "      <td>41</td>\n",
       "      <td>191</td>\n",
       "      <td>40</td>\n",
       "      <td>212</td>\n",
       "      <td>0.0</td>\n",
       "      <td>215.705627</td>\n",
       "    </tr>\n",
       "    <tr>\n",
       "      <th>3</th>\n",
       "      <td>7</td>\n",
       "      <td>191</td>\n",
       "      <td>0</td>\n",
       "      <td>373</td>\n",
       "      <td>0.0</td>\n",
       "      <td>166.066986</td>\n",
       "    </tr>\n",
       "    <tr>\n",
       "      <th>4</th>\n",
       "      <td>2</td>\n",
       "      <td>191</td>\n",
       "      <td>16</td>\n",
       "      <td>231</td>\n",
       "      <td>0.0</td>\n",
       "      <td>187.182098</td>\n",
       "    </tr>\n",
       "  </tbody>\n",
       "</table>\n",
       "</div>"
      ],
      "text/plain": [
       "   Qual_1_code  Qual_3_code  years_exp  Locality_code  Misc_4        Fees\n",
       "0            4          191         35            142     0.0  182.230804\n",
       "1            2          191         31            577     0.0  195.238129\n",
       "2           41          191         40            212     0.0  215.705627\n",
       "3            7          191          0            373     0.0  166.066986\n",
       "4            2          191         16            231     0.0  187.182098"
      ]
     },
     "execution_count": 3225,
     "metadata": {},
     "output_type": "execute_result"
    }
   ],
   "source": [
    "df_test_xgb.head()"
   ]
  },
  {
   "cell_type": "code",
   "execution_count": null,
   "metadata": {},
   "outputs": [],
   "source": []
  },
  {
   "cell_type": "code",
   "execution_count": 3226,
   "metadata": {},
   "outputs": [
    {
     "name": "stderr",
     "output_type": "stream",
     "text": [
      "C:\\Users\\sd15068\\AppData\\Local\\Continuum\\Anaconda3\\lib\\site-packages\\pandas\\core\\indexing.py:517: SettingWithCopyWarning: \n",
      "A value is trying to be set on a copy of a slice from a DataFrame.\n",
      "Try using .loc[row_indexer,col_indexer] = value instead\n",
      "\n",
      "See the caveats in the documentation: http://pandas.pydata.org/pandas-docs/stable/indexing.html#indexing-view-versus-copy\n",
      "  self.obj[item] = s\n"
     ]
    }
   ],
   "source": [
    "df_test_xgb.loc[df_test['Qual_1_code'] == 38, 'Fees'] = 100"
   ]
  },
  {
   "cell_type": "code",
   "execution_count": 3227,
   "metadata": {
    "collapsed": true
   },
   "outputs": [],
   "source": [
    "df_test_xgb.to_csv('submission17.csv')"
   ]
  },
  {
   "cell_type": "code",
   "execution_count": 3262,
   "metadata": {
    "collapsed": true
   },
   "outputs": [],
   "source": [
    "df.to_csv('df_train.csv')"
   ]
  },
  {
   "cell_type": "code",
   "execution_count": null,
   "metadata": {
    "collapsed": true
   },
   "outputs": [],
   "source": []
  }
 ],
 "metadata": {
  "kernelspec": {
   "display_name": "Python 3",
   "language": "python",
   "name": "python3"
  },
  "language_info": {
   "codemirror_mode": {
    "name": "ipython",
    "version": 3
   },
   "file_extension": ".py",
   "mimetype": "text/x-python",
   "name": "python",
   "nbconvert_exporter": "python",
   "pygments_lexer": "ipython3",
   "version": "3.7.1"
  }
 },
 "nbformat": 4,
 "nbformat_minor": 2
}
